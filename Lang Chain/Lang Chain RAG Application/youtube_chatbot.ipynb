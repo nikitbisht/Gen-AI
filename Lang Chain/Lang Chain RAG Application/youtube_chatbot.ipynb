{
  "cells": [
    {
      "cell_type": "code",
      "execution_count": 3,
      "metadata": {
        "id": "Bwm08EG0h7Uv"
      },
      "outputs": [],
      "source": [
        "import langchain"
      ]
    },
    {
      "cell_type": "code",
      "execution_count": null,
      "metadata": {
        "id": "1JWLbEh_ixKI"
      },
      "outputs": [],
      "source": [
        "import os\n",
        "api_key = ''\n",
        "os.environ[\"HUGGINGFACEHUB_ACCESS_TOKEN\"] = \"\""
      ]
    },
    {
      "cell_type": "code",
      "execution_count": 5,
      "metadata": {
        "colab": {
          "base_uri": "https://localhost:8080/"
        },
        "id": "We_O1xI8kFJZ",
        "outputId": "1f6b2d5b-fa9a-42fe-988a-a3b27590e19e"
      },
      "outputs": [
        {
          "name": "stdout",
          "output_type": "stream",
          "text": [
            "\u001b[?25l   \u001b[90m━━━━━━━━━━━━━━━━━━━━━━━━━━━━━━━━━━━━━━━━\u001b[0m \u001b[32m0.0/2.2 MB\u001b[0m \u001b[31m?\u001b[0m eta \u001b[36m-:--:--\u001b[0m\r\u001b[2K   \u001b[91m━━━━━━━\u001b[0m\u001b[91m╸\u001b[0m\u001b[90m━━━━━━━━━━━━━━━━━━━━━━━━━━━━━━━━\u001b[0m \u001b[32m0.4/2.2 MB\u001b[0m \u001b[31m12.8 MB/s\u001b[0m eta \u001b[36m0:00:01\u001b[0m\r\u001b[2K   \u001b[91m━━━━━━━━━━━━━━━━━━━━━━━━━━━━━━━━━━━━━━━\u001b[0m\u001b[91m╸\u001b[0m \u001b[32m2.2/2.2 MB\u001b[0m \u001b[31m33.8 MB/s\u001b[0m eta \u001b[36m0:00:01\u001b[0m\r\u001b[2K   \u001b[90m━━━━━━━━━━━━━━━━━━━━━━━━━━━━━━━━━━━━━━━━\u001b[0m \u001b[32m2.2/2.2 MB\u001b[0m \u001b[31m25.6 MB/s\u001b[0m eta \u001b[36m0:00:00\u001b[0m\n",
            "\u001b[2K   \u001b[90m━━━━━━━━━━━━━━━━━━━━━━━━━━━━━━━━━━━━━━━━\u001b[0m \u001b[32m2.5/2.5 MB\u001b[0m \u001b[31m82.7 MB/s\u001b[0m eta \u001b[36m0:00:00\u001b[0m\n",
            "\u001b[2K   \u001b[90m━━━━━━━━━━━━━━━━━━━━━━━━━━━━━━━━━━━━━━━━\u001b[0m \u001b[32m31.3/31.3 MB\u001b[0m \u001b[31m60.2 MB/s\u001b[0m eta \u001b[36m0:00:00\u001b[0m\n",
            "\u001b[2K   \u001b[90m━━━━━━━━━━━━━━━━━━━━━━━━━━━━━━━━━━━━━━━━\u001b[0m \u001b[32m44.4/44.4 kB\u001b[0m \u001b[31m2.3 MB/s\u001b[0m eta \u001b[36m0:00:00\u001b[0m\n",
            "\u001b[2K   \u001b[90m━━━━━━━━━━━━━━━━━━━━━━━━━━━━━━━━━━━━━━━━\u001b[0m \u001b[32m50.9/50.9 kB\u001b[0m \u001b[31m3.2 MB/s\u001b[0m eta \u001b[36m0:00:00\u001b[0m\n",
            "\u001b[2K   \u001b[90m━━━━━━━━━━━━━━━━━━━━━━━━━━━━━━━━━━━━━━━━\u001b[0m \u001b[32m363.4/363.4 MB\u001b[0m \u001b[31m4.3 MB/s\u001b[0m eta \u001b[36m0:00:00\u001b[0m\n",
            "\u001b[2K   \u001b[90m━━━━━━━━━━━━━━━━━━━━━━━━━━━━━━━━━━━━━━━━\u001b[0m \u001b[32m13.8/13.8 MB\u001b[0m \u001b[31m43.3 MB/s\u001b[0m eta \u001b[36m0:00:00\u001b[0m\n",
            "\u001b[2K   \u001b[90m━━━━━━━━━━━━━━━━━━━━━━━━━━━━━━━━━━━━━━━━\u001b[0m \u001b[32m24.6/24.6 MB\u001b[0m \u001b[31m43.7 MB/s\u001b[0m eta \u001b[36m0:00:00\u001b[0m\n",
            "\u001b[2K   \u001b[90m━━━━━━━━━━━━━━━━━━━━━━━━━━━━━━━━━━━━━━━━\u001b[0m \u001b[32m883.7/883.7 kB\u001b[0m \u001b[31m28.9 MB/s\u001b[0m eta \u001b[36m0:00:00\u001b[0m\n",
            "\u001b[2K   \u001b[90m━━━━━━━━━━━━━━━━━━━━━━━━━━━━━━━━━━━━━━━━\u001b[0m \u001b[32m664.8/664.8 MB\u001b[0m \u001b[31m2.7 MB/s\u001b[0m eta \u001b[36m0:00:00\u001b[0m\n",
            "\u001b[2K   \u001b[90m━━━━━━━━━━━━━━━━━━━━━━━━━━━━━━━━━━━━━━━━\u001b[0m \u001b[32m211.5/211.5 MB\u001b[0m \u001b[31m5.7 MB/s\u001b[0m eta \u001b[36m0:00:00\u001b[0m\n",
            "\u001b[2K   \u001b[90m━━━━━━━━━━━━━━━━━━━━━━━━━━━━━━━━━━━━━━━━\u001b[0m \u001b[32m56.3/56.3 MB\u001b[0m \u001b[31m16.1 MB/s\u001b[0m eta \u001b[36m0:00:00\u001b[0m\n",
            "\u001b[2K   \u001b[90m━━━━━━━━━━━━━━━━━━━━━━━━━━━━━━━━━━━━━━━━\u001b[0m \u001b[32m127.9/127.9 MB\u001b[0m \u001b[31m7.3 MB/s\u001b[0m eta \u001b[36m0:00:00\u001b[0m\n",
            "\u001b[2K   \u001b[90m━━━━━━━━━━━━━━━━━━━━━━━━━━━━━━━━━━━━━━━━\u001b[0m \u001b[32m207.5/207.5 MB\u001b[0m \u001b[31m6.1 MB/s\u001b[0m eta \u001b[36m0:00:00\u001b[0m\n",
            "\u001b[2K   \u001b[90m━━━━━━━━━━━━━━━━━━━━━━━━━━━━━━━━━━━━━━━━\u001b[0m \u001b[32m21.1/21.1 MB\u001b[0m \u001b[31m62.1 MB/s\u001b[0m eta \u001b[36m0:00:00\u001b[0m\n",
            "\u001b[?25h"
          ]
        }
      ],
      "source": [
        "!pip install -q youtube-transcript-api langchain-community langchain-huggingface faiss-cpu tiktoken python-dotenv"
      ]
    },
    {
      "cell_type": "code",
      "execution_count": 6,
      "metadata": {
        "id": "6kOj8mXxkZVN"
      },
      "outputs": [],
      "source": [
        "from youtube_transcript_api import YouTubeTranscriptApi, TranscriptsDisabled\n",
        "from langchain.text_splitter import RecursiveCharacterTextSplitter\n",
        "from langchain_huggingface import ChatHuggingFace, HuggingFaceEndpoint, HuggingFaceEndpointEmbeddings\n",
        "from langchain_community.vectorstores import FAISS\n",
        "from langchain_core.prompts import PromptTemplate"
      ]
    },
    {
      "cell_type": "code",
      "execution_count": null,
      "metadata": {
        "id": "nCV4PT_ilOyQ"
      },
      "outputs": [],
      "source": [
        "#indexing"
      ]
    },
    {
      "cell_type": "code",
      "execution_count": 9,
      "metadata": {
        "colab": {
          "base_uri": "https://localhost:8080/"
        },
        "collapsed": true,
        "id": "V_BBVBiclrnV",
        "outputId": "b13132f4-c54c-4dd4-c913-8c7bea9a60b9"
      },
      "outputs": [
        {
          "name": "stdout",
          "output_type": "stream",
          "text": [
            "- I've gathered 50 of the\n",
            "biggest YouTubers on the planet. And whichever one lasts\n",
            "the longest in this cube wins that million dollars\n",
            "for their subscribers. Never before seen in YouTube history, 1 billion subscribers worth of YouTubers are competing for $1 million. And the rules are simple. All right, point the camera\n",
            "down, close the line. - Oh!\n",
            "- Okay. So if you step on the red line, you lose your subscribers\n",
            "a million dollars. So be careful. Last to leave wins it all. - Like, bro, I\n",
            "watched the \"Squid Games\" like reality show, it's like... - I feel like I'm just a target. - People are not\n",
            "going to be friends in this box. - There's no way.\n",
            "- This is our money, bro. - This is real USD. - I'm pumped, bro. - You finally made in a video.\n",
            "- Finally. - The best strategy is\n",
            "to just conserve energy, think about that million dollar pot. - Between us, would you\n",
            "eliminate someone else so you could stay in? - For my subscribers, of course. - Yeah, yeah.\n",
            "- No, no, no. Get out, no, no, no, no. Get off me. - JJ, so you know the\n",
            "more enemies you make, the higher the chance\n",
            "they might eliminate you. - Oh no, no, we're just goofing around. - Yeah, we are just having fun. - He's literally hiding behind the money. I don't think he got\n",
            "the goofing around memo. Look at all the YouTubers\n",
            "laughing and having a good time. By the end of this video, that's not going to be the case. This video is absolutely\n",
            "the most brutal... - I hate you, Jimmy. - Cutthroat piece\n",
            "of content you've ever seen these creators in. And the first challenge starts right now. Pull the curtain. You guys are not ready for this. - Whoa! - What the?\n",
            "- Oh my God. - For challenge number one, you can temporarily walk out of the cube and attempt a free throw. If you make the shot, we will\n",
            "give a subscriber of yours a free cybertruck and you'll be allowed\n",
            "back in the challenge. But if you miss, your\n",
            "subscriber gets nothing and you are eliminated. - How did they get this many\n",
            "cybertrucks in one place? - I cannot make that shot. - It's too risky. - Free throw is so easy. - A free throw is easy. - I could not make a free\n",
            "throw to save my life. - Everyone was on the edge trying to decide if the\n",
            "first challenge was worth it. But then Mark Rober did this. - Jimmy, peace. - No! - I'm doing it. - No way. - Look at all the YouTubers\n",
            "in the background. - Oh man, this is pressure. - This is a subscriber.\n",
            "- What's your name? - Matthew. - Don't let him down.\n",
            "You got to make this happen. - I got faith in you. - It's on you, Mark. - Go Mark.\n",
            "- Are you going to win your biggest fan a cybertruck or are you both leaving with nothing? - No.\n",
            "- Oh man. - No.\n",
            "- Oh. - I'm so sorry.\n",
            "- It's okay. - As devastating as that was, Jidion decided that maybe\n",
            "he could do a little better. Cybertruck on the line. Oh. Not like this. - That was so bad. - What was that? You tried. - I think I\n",
            "definitely lost a subscriber. - Guys, this is my moment. I am a basketball YouTuber. - If you go out there,\n",
            "I'll go out there, too. - All right, I'm out. Hey, I'm next. - Dude, I'm going to go with you. - Gentlemen, here's your biggest fans. You got a lot of pressure. - I can't watch this, I can't watch it. - Jesser, are\n",
            "you going to let down your biggest fan? - Yes.\n",
            "- Let's go, yeah. - Congrats on the cybertruck. We got more shots. - Thank you, Jesser. - However, not\n",
            "everyone was so fortunate. - I'm sorry. I couldn't get you this cybertruck. Devastating. - Will FazeRug's fan\n",
            "be taking home a cybertruck or will we have yet another loss? - Come on, bro.\n",
            "- Come on. - Let's go, he did it.\n",
            "- Oh my God. - Let's go. - Bro, I love you. - Dude, I love you too. We back. - And after seeing\n",
            "three massive YouTubers lose this challenge, it was clear, nobody else wanted to try it. So in the meantime, I let all\n",
            "the YouTubers get settled. - Well, that's a pro there. - But it wouldn't be long until being settled\n",
            "turned into being bored, bored enough to literally be stupid. I don't know why he is doing this, but he's technically not out yet. He has not touched the red. We'll check the footage. Did he touch it? Oh, yeah. - No. - So far, four YouTubers\n",
            "have left the cube and we need one more to leave before we can start the next challenge. The challenge two will begin\n",
            "when one person gets out. - Help, help! Stop. - Take it, take it and go.\n",
            "- Nice. I'm making out like a bandit, Pokimane. Can I take my jacket with me? - Of course.\n",
            "- Okay. - Okay.\n",
            "- Bye. Goodbye and then there is 45. I'm going to go prep the second challenge. I'll be back. And by prep, I mean\n",
            "sweep up the giant pile of a million real dollars\n",
            "scattered on the floor. - Yo, MrBeast\n",
            "sweeping money is a crazy shot. - MrBeast is literally\n",
            "wiping money off of a floor. I don't know what to tell you about this. - And now that all\n",
            "the money has been cleaned up, are you guys ready for\n",
            "the second challenge? Alright, I'm going to\n",
            "need you all to stand up. You'll notice there are dots in groups of five on the floor. So naturally, I need\n",
            "all of you to split up into groups of five. And on top of that, elect a\n",
            "team captain for your group, who will be granted immunity\n",
            "for this next challenge. That's all I will say. Have fun picking teams. - This is crazy. - We have to split into groups of five. If we're against each other,\n",
            "I'm going to be so sad. - Okay, so let's do us five. - We are in true overthinker fashion. Overthinking this challenge. - Are you five going to be a group? - Yeah.\n",
            "- Okay, who's going to be the captain? - We're deciding, Jimmy. - Have you picked a captain yet? - It's Jack.\n",
            "- For some reason. - Marques.\n",
            "- Marques? - How can you not trust Marques? He's the most trustworthy\n",
            "tech reviewer online. - You can pick the captain, please? - That's up to you guys. I want no say. How are you guys going\n",
            "to pick your captain? We already chose. - Who? Sketch, you trust him with your life? - I trust him. I trust him fully. - All right, you'll notice my henchmen are bringing in tables for\n",
            "each of the team captains. And what's on these tables\n",
            "might look a little familiar. - Oh no, I know what it is. - Yes, come on the other side. Captains, I want you to lift the cloth and reveal the next challenge. You have four cookies. - Oh, my god. - I'm freaking out. - And each captain has to decide which YouTuber on their\n",
            "team will cut each cookie. - Oh my...\n",
            "- If they break it, they're eliminated. - No.\n",
            "- And if it wasn't already obvious, depending\n",
            "on which cookie you get, this is either going to be\n",
            "really easy or almost impossible. Niko, it's time to hand out some cookies. - This is the worst day\n",
            "of my life, honestly. - What are you handing Sketch? - No, there's no way. - This is crazy. - There's no way you would do it. - This is crazy. - There's no way.\n",
            "- I can do the star. - There's no way you would do it. - Oh, my goodness. - He killed it.\n",
            "- Wow. - Niko, his blood is on your hands. - Oh, my god. - Niko. - Oh, my god. - But the captains still\n",
            "had eight more umbrellas to hand out. - Umbrella is going to Michael. - How'd you end up with umbrella? - I said I could do it.\n",
            "- I trust him. - Okay.\n",
            "- Give me that umbrella, sir. - Appreciate you.\n",
            "- Umbrella. - I took it for the team. - You're giving him the umbrella? - Fede. - I believe in you. Godspeed. Oh no, how'd you end up with the umbrella? - Bad luck.\n",
            "- You got it, you got it, you got it, you got it. - Lexi got the umbrella. - I got the umbrella. I'm confident. - It's a cruel world. - I'm so sorry. - Bro. - Pokimane, I believe in you. You are her. This is your time. This is your moment. Let everyone know that\n",
            "you're that proud... - Start the timer. Alright the 10 minute counter has begun. If you don't carve the shape out, obviously you'll be eliminated. - I thought being team captain would mean I could do a challenge\n",
            "to help my team win. Turns out I skip the challenge\n",
            "and punished my team. - I got the triangle. - It tastes really good, though. - Easy peasy, 10 minutes is a long time. - And that's\n",
            "what I thought as well, but it took a solid chunk of\n",
            "time before this happened. - Yes, yes, yes! Come on Sketch!\n",
            "Come on Sketch! - But not everyone had it so easy. Like Logan Paul with the star and Pokimane with the hardest of them all. - It cracked down the middle. - I'm so sorry. Pokimane, I'm sorry. - Because the umbrella had just obliterated Pokimane, the others took notice\n",
            "and were more cautious with their umbrellas. - Sketch, you\n",
            "have to be careful, yeah? Take your time. Take your time. - But the people\n",
            "with simpler shapes were showing a lot more progress. - Riku got the star, let's go. - Yeah. - Yes. - Let's go. - Oh, my God, my team rules. - Come on, let's go, guys. Let's go. - Logan, that might be the most\n",
            "disgusting cookie out here. - Bro, you're making me do this, bro. I'm trying to win a million\n",
            "dollars for the Logang. - Nice, nice, nice. - Y'all got it boys. Good stuff. - I'm like shaking, man. - Yes, yes, Sketch. Yes, yes, yes. - No! - My first fallen soldier. - No guys.\n",
            "- Done. - Oh, I got it.\n",
            "- Got it. - Ah! Oh, that's disgusting. I hate you, Jimmy. - All right, hey, wait. Hey, really quick, really quick. - I'm good. - Hey, that's where it's going to mess up. This is where people crack. - Oh no!\n",
            "- Oh. - You did this. - Just heard a piece of change. - What happened? - He betrayed me. - Sketch, you trust him with your life? - I trust him. I trust him fully. - I'm really sorry\n",
            "- You gave the guy with the worst eyesight,\n",
            "with the worst hands the worst thing. - I'm sorry, brother.\n",
            "- And with that, the second challenge has\n",
            "eliminated Colby and Rugs, Michael Reeves, Fede,\n",
            "- It's okay, bro. - Ossy,\n",
            "- Thank you, thank you. - Lexi and Matpat. - Not again. - Right, again. The true million was the\n",
            "friends we made along the way, and that's no theory. Retirement begins. - He just bring retired. And we also lost Jschlatt,\n",
            "Pokimane and Mastu, and lastly, of course, Sketch. Thanks for coming up.\n",
            "- It's a pleasure, thank you so much. - Are you going to dab him up? - Oh.\n",
            "- Oh. - Later bro. Love y'all.\n",
            "- 11 people were eliminated, 34 of you remained, congrats. - You are an evil man, MrBeast. There was some beloved\n",
            "people that were taken. I'm happy they're gone,\n",
            "every single one of them because it means my odds are better. Now, the herd has been\n",
            "thinned and I'm going to win. - And while setting\n",
            "up the next challenge, I let the 34 remaining\n",
            "YouTubers entertain themselves. - We can play a game. How close can you get to that line, bro? - We can do that with bottle caps. - That's right,\n",
            "the device that entertains your favorite creators are bottle caps. - Oh, whoa.\n",
            "- Whoa. - Hey, watch this, watch this. - Not going to think about it. - Wow!\n",
            "- No way! Oh my God! No way! - It's him, he's him.\n",
            "- Lebron, Lebron. - All right, that's enough of that. For challenge three, I need\n",
            "you all in groups of two and duct tape your hands together. Be careful who you pick as your partner. - I was best man at his wedding. So, we're riding together. - All right, let's do it, Andrea. - Are we locking it in? - Hell yeah, I think we're locking in. - For some reason,\n",
            "everyone just paired up with their closest friends. - They think that they're\n",
            "going to be teammates. - Which, let's be honest, is not the best strategy\n",
            "in a MrBeast video. - Do we have to hold hands\n",
            "or am I just doing this? - You don't have to hold hands - Oh, sorry, sorry. - Yo, yo, yo, yo, yo, yo, yo. Yo, why am I with him, he's crazy! - Now that everyone has a\n",
            "partner, update the floor. Go ahead and bring it on in. Whoever you're duct taped\n",
            "to, we will cut you loose and you'll be going\n",
            "head-to-head in giant Jenga. - This is so stressful. - I hate Jenga. - No, we got this, we got this. - You've been laughing\n",
            "nonstop this whole time. So I think it makes sense\n",
            "for you to go first. The tape is off. Let's see who's going home. Oh, imagine it falls on the first one. Okay, he's not done until\n",
            "he puts the block on top. Now, obviously the plan for giant Jenga was to be a more extreme\n",
            "version of the game. But the tower was getting so tall, they couldn't even reach\n",
            "the top with the ladder. - Oh, that is the most rickety\n",
            "ladder I've seen in my life. - And because\n",
            "there was now a limit to how high the tower could go, eventually they would run\n",
            "out of possible moves. - This might be the\n",
            "final move right here. - That was literally the last possible block to pull. So JJ, you've ran out of luck. What are we doing here? - It's been a pleasure, bro. - Oh no.\n",
            "- Whoa. - No, surely not. - Savage. - An hour and a half Jenga game for that. - I'm speechless.\n",
            "I don't know what's going on. - He lost and then he took me out. That is insane. - I'm going to let you all vote if you think it was fair or\n",
            "not that JJ carried him out. Go to the right side\n",
            "if you think it's fair, go to the left if you think it isn't. - I wish there was more\n",
            "evil people on that side. - Not fair, not fair. - No fair man, no fair. - The people have spoken. With KSI out and AJ back\n",
            "in, 33 of you still remain. - You said that was fair? - Yeah, so that's a game. I'm about to... - Yo, yo, yo, yo, yo, yo, yo. - I'm just saying, bro, that's the game. - Team Prime, we got this. Logan, smash this. - Because that\n",
            "last game took hours and I can't pull these\n",
            "YouTubers hostage forever, we pivoted to normal Jenga. I messed up. Pull your first block. - Let's do this.\n",
            "- Okay. - Immediately the games began and we're moving quickly and soon, things started to get competitive. - There's no way. You're so crazy. - Oh yo. - Are you kidding me? - But suddenly something\n",
            "unexpected happened. Oh, what the? - Niko's got a great video\n",
            "idea, if he wins this. So I want him to go out there\n",
            "and actually give it a try. - Because of the\n",
            "way this challenge works, some of these creators\n",
            "accidentally paired themselves with their closest allies and therefore... - He was the best man at my wedding. He flew 27 hours to be here. - Were even willing\n",
            "to sacrifice themselves for their friends. - I'm going to cry, bro.\n",
            "- Oh my God. - This is how the UK does it. You got to do it for your boys. - You got to be selfless, man. - You got to just say, you know what? Let them play. - By this point, the\n",
            "towers had gotten so big... She can't pull from the top two. Oh! That even breathing on them the wrong way would cause them to collapse, costing the loser subscribers $1 million. - No, that wasn't even close. - It's impossible. - That was fun. - It's done for me. Jenga got me. - Yep, wait, wait. - And upon\n",
            "elimination, after elimination. - Well played. - After elimination,\n",
            "we were coming down to the end of this challenge. - It hit me in the lip. I'm earning this million to fans. I mean, brother, you've got one move. Dude\n",
            "- No problem. - Logan, he flew here\n",
            "all the way from India and you eliminated him. - It was very fun, man. - What do you think about\n",
            "us passing T Series? - Whoever crosses, I think\n",
            "it's for the YouTube community. Whoever is the first\n",
            "needs to be respected. - Let's go.\n",
            "- I've been watching since 2014. - All right, you know what? - I am very happy - Oh, now I wish you would've won. The last tower standing\n",
            "was without a doubt, the most competitive game we had. Pull that bad boy. These two were at it for\n",
            "more than two hours longer than the rest of the YouTubers. - That's crazy. Oh. No, no, no. - You got it, yo. - No.\n",
            "- No, no, no, no. - Challenge three is officially over. And with that, let's bring in the beds. Okay, everyone has beds. We'll see you in the morning\n",
            "for the fourth challenge. And that concludes the first\n",
            "24 hours of this challenge. And I'm going to be honest,\n",
            "it's actually pretty crazy. All these YouTubers are\n",
            "just casually sleeping next to $1 million in cash. And by the end of this video, it could quite literally be yours. - Hey, yo. Good morning, Logang. What's popping? - Oh my God, that takes me back. I'm getting tingles, bro. - Ohayo. - Ohio? - It's good morning. - Ohayo. - Time to lock in and do\n",
            "it for the subscribers. - Good morning.\n",
            "- Good morning. - I have a surprise for all of you. - Is it our families? - It's better than your families. - Oh, no. - And for those of you who don't know\n",
            "who my friend Speed is,  he's one of the largest creators on the entire planet. And he was supposed to be\n",
            "here over 24 hours ago. However, Speed's plane just\n",
            "landed, he's ridiculously late. And I wanted to give you guys the option if you wanted to allow\n",
            "him in and play alongside one of your fellow creators? Or if you want him just to hop back on the plane and head out. It's up to you guys.\n",
            "- Yeah. - In this community,\n",
            "we're about inclusion and- - No, we're not.\n",
            "- No, we are not. - I will be pissed. - He knows nothing about life-size Jenga. - He hasn't suffered. - Oh, come on bro. Look at that mullet on him. - He's already barking, man. - I think it's time. Go on the left if you want him in. Go on the right if you don't. - We all do it together. - Get back on that plane. I have no idea what's going on. - All right, it's final. Speed, they don't want you here. - All right. - This won't be\n",
            "the last time you see him. - So you all going to get out. I remember all you all faces. - Should have thought about that. - Now we're doomed. - And with that, bring\n",
            "in the fourth challenge. - Is it just Speed again?\n",
            "- Oh, no. - Bring them on in. - Deal or no deal. - Almost immediately,\n",
            "everyone began to pick up on what the next challenge was. - What do you\n",
            "think is in the briefcase? - Eliminated and staying boxes. - Bring out Howie Mendel, please. - And considering the\n",
            "last time we played this game, it was such a massive fan favorite, I knew we not only had\n",
            "to bring back the game, but also the face of\n",
            "the game one more time. - Howie, Howie, Howie. - Jimmy. - Bro, it's been a while. - Wow, it's like I'm live scrolling. - I need whoever has the most\n",
            "subscribers to come up here. Who has the most? - Don't even look at me. - Logan, I guess you have the most. Before I explain the rules,\n",
            "you have to pick a competitor. - I gotta go with you, Sam. - All right. I now need you to pick a briefcase. Any number. - I'll go with lucky number 11. - Seven of these\n",
            "briefcases say eliminated. The rest are safe. Logan is going to look\n",
            "inside the briefcase and then Sam is going to have to decide does he want to steal\n",
            "it or let Logan keep it. - In the classic game\n",
            "of Steal Or No Steal. - There you go, Howie's a natural. - He said the thing. - This case is not safe. - Oh, dang. - Do you trust what he's saying? - I don't. - I would steal.\n",
            "- Really? - Steal or no steal? - I'm going to go with steal. - You're going to steal it. Did Sam make the right choice? - Oh my God. - I'm sorry, Sam. - The Sam and Colby channel\n",
            "is now officially eliminated. - And now that Logan's\n",
            "case has been stolen, he will continue to play until someone doesn't steal his case. Who do you want to go up against now? - Kai.\n",
            "- Kai. What number do you want, Logan? - Lucky number seven. Let's go, Kai. - I want to make sure no\n",
            "one can see what's in this. - Kai, look at me. Also not safe. - Oh, not safe? - You think he's being honest? - I'm going to go with steal. Let me tell you why. - Oh, didn't even ask him anything. - Growing up I've been watching Logan since he started YouTube. I know how he acts in certain situations. You can't fool me, bro. - You're that confident. - This briefcase, how you open this? It is... Safe. - He read Logan like a book. - Oh my God.\n",
            "- Wow. - My heart is racing so fast right now. Ludwig. - You want me, baby?\n",
            "- It's you, it's you. - For this one, Logan, because you said your heart was racing, do you mind putting on\n",
            "this Samsung Galaxy ring? - I don't mind. - I want to measure your heart rate. And Luddy, do you mind\n",
            "putting this ring on? - Yeah, no worries. - We'll be able to see it in real time. Yeah, that's right. We're going to use the\n",
            "Samsung Galaxy Z Flip 6 to track the player's heart rates as they try to bluff each other. Logan's 106 right now. Ludwig's 87. - Regardless of what I see in here, I'm going to ask you to keep this case. - Ludwig's getting a bit stressed. - I got a little stressed out when he started to do\n",
            "something to keep stuff. - Surely the best move here\n",
            "is just to let him have it. There's too much to guess. - I didn't even see it. Can I keep it? - What is happening in your own heart? - Karl, actually, what is happening there? - It's going crazy,\n",
            "I'm going to be honest. - It's at 103 right now, Howie. - Okay, this one word will\n",
            "change the life of a follower. a million dollars. - He's good.\n",
            "- He's doing the thing. - Steal or no steal? - No steal. - Logan Paul is... Safe. - I'm ready, I'm ready. There's only one case for me. - I know, case 14. - We don't even have to\n",
            "look at it. I want it. I'm stealing it. I traveled 27 hours to be here. - Let's see if it was all for nothing. - Oh my God, oh my God. - There's your lucky case. - 27 hours. - It's nice seeing the\n",
            "eliminated cases go. - This is so heartbreaking. - Just don't hit a\n",
            "kangaroo on your way home. - I don't like you, Nolan. - And the brutality of these cases didn't stop there. No steal. Because the most brutal was yet to come. Oh my gosh. - I feel stabbed, I do. - Yeah, that was crazy. - I don't want to lie. - You don't want to look at her\n",
            "in the eyes when she opens it? - Oh god, it says eliminated. - I can't do this, it's too hard.\n",
            "- You think she's telling the truth? - I think she's acting. - Steal or no steal? - Steal. - She's smiling. - What did she just do? Holy crap, her heart rate got up to 152. - She's a demon. - And even though she was lied to, Valkyrae wasn't afraid to start\n",
            "playing that game herself, with only two eliminates\n",
            "and three safes left. So now she has another\n",
            "chance to be deceptive. - What I just watched, I'm shocked. - That's crazy. - Can't trust anyone anymore. - You look concerned. - Last time she was crying. Now, she's the happiest\n",
            "I've ever seen her. - This is crazy. - It is safe.\n",
            "- So I ask you, steal or no steal? - I am going to steal. I'm going to let the audience react. - Three, two, one. - Oh my god. - She's good. - These are the four\n",
            "remaining contestants. Only two safes and two\n",
            "elimination remains. - I'll do it. - While she's grabbing\n",
            "her briefcase, Marques, what do you think of the\n",
            "Samsung Galaxy Z Flip 6? - Oh, it's convenient you\n",
            "picked me for this one. It looks pretty good. - Anyways, let's get back to this. - If you want to monitor\n",
            "your own heart rate and track your steps, check\n",
            "out the Samsung Galaxy ring and the Samsung Galaxy Z Flip 6. - Do you want\n",
            "what's in that case? - No. - She wants it, she wants it. - I feel like the last two, it seemed like you pushed\n",
            "a safe pretty quickly and I don't think you'd do\n",
            "that three times in a row. No steal. - You read me like a book. - There is only one eliminated left. - You were my team captain. I trust you. - I got the last eliminated. - If they had trust, he would\n",
            "show her the case right now. - I don't think he's telling the truth. - Steal or no steal? - Okay, no steal. - If this says eliminate,\n",
            "they both move on. Can you trust MKBHD? - He doesn't know how to lie. And these were the two\n",
            "that weren't chosen. Go ahead and open them. They both will be safe. And after that blood bath,\n",
            "these 10 are what remain and only one of them can\n",
            "win their subscribers the million dollar prize. - I don't feel good. - I can't do this, bro. I can't barely move, bro. - This is where the game kind of gets hard 'cause now we got to eliminate\n",
            "our new acquaintances and that kind of sucks. - It's now time for the fifth challenge. Switch the floor. There are five pairs of two dots. I once again, need you all\n",
            "to pair up in groups of two and this time, you'll be working together. - Do you want to do the risk? I'm down, I'm down. - We got this? - We got this. - Kai, you trust this\n",
            "man with a million bucks? - That's my brother. - I trust Kai. - Why you two? - The female bond. - You two have\n",
            "been getting along well? - Yeah, because all my friends are out and he speaks French. - All right,\n",
            "Karl, blindfold them all. - I'll see you on the other side. - I'll see you on the other... - It's dark here.\n",
            "- Now that everyone is blindfolded, bring in the set. - Hey bro, hey bro. - This room is being\n",
            "transformed right now. - I lean to my left,\n",
            "there is something hard. - No. - What do you think's going on? - I smell a bit of gas. I touch it here, it's cloth. - Yeah. - Jimmy, is this an apron?\n",
            "- Hey, stop touching things. - I asked you. - All right, everybody,\n",
            "remove your blindfold. - No.\n",
            "- Oh, my God. - As I'm sure\n",
            "you all pieced together, this is a team cooking challenge. - Let's go baby. Let's go baby. Let's go baby. - I am terrified. I can't cook. - Bro, how'd you end up with Nick? - He said it. - That's crazy. - I'm cooked. - You've cooked before?\n",
            "- No, I'm cooked - with this challenge.\n",
            "- Oh he's cooked. - The best things I cooked\n",
            "is eggs, toast and cereal. - We've been on a cooking\n",
            "team before, and we lost. - We have., we've been\n",
            "on a cooking team before - and we lost.\n",
            "- So you have some experience. - No, we did bad.\n",
            "- We did bad. - Just don't do that again. We will be bringing in three judges. They'll rate all your meals\n",
            "on a scale of one to 10. The three teams with the\n",
            "highest ratings move on, the two teams with the lowest\n",
            "ratings are eliminated. Bring out our first judge, Joey Chestnut. - No way, Joey. - What better man to judge your food than the literal best eater on the planet? He broke so many food world records that Guinness gave him world record of breaking the most world records. And now for our second\n",
            "judge, Miranda Cosgrove. - Oh my God.\n",
            "- \"iCarly\"? - I'm losing my mind. - Kai was excited about that one. - I was excited, bro. - Our third and final\n",
            "judge, bring him on out. He needs no introduction, IShowSpeed. - Oh my God. - We're screwed.\n",
            "- Watch this, that's all I got to say. - The time has officially started. You guys can cook anything you want. This time is going to go by\n",
            "way faster than you think. On top of that, your dish\n",
            "will be judged on taste, creativity and presentation. The race has begun. Let's see what they whip up. - In \"iCarly\", her older\n",
            "brother Spencer loved the spaghetti tacos. Spaghetti tacos with the... - What are you two making? - We are making a Cordon\n",
            "Bleu, which is a French dish. - What are you two making? - Chocolate cake, some mac and cheese. - Okay?\n",
            "- That hurts, that hurts, that hurts, that hurts. - I'm trying to do a Spanish tortilla and he's trying to do fried rice. Clashing two countries together to make - A war?\n",
            "- A war in their mouth. - Oh my gosh, this looks good already. There's just onions and some spices. This man was mentored by Gordon Ramsey. So basically there's only\n",
            "four slots besides these two. - It's going to be so\n",
            "embarrassing if the two women get eliminated for cooking. No, it's not because\n",
            "women do more than cook. - So for dessert, we're making chocolate\n",
            "covered strawberries. - I'm really hungry, can't wait to eat.\n",
            "- And I hear her stomach is like - Get ready to\n",
            "put everything down. - Okay, okay, please, please, please. Oh, okay, it looks good. - Joey loves cheese? Yo, yo, yo, bro, you got\n",
            "to hold the sandwich. - A million dollars is riding on this. Three, two, one, stop what you're doing. The time is officially up. They're going first. - What we're eating tonight\n",
            "is a French Cordon Bleu. - I actually like this. - Yeah, the asparagus are good. - Whenever you judges are ready. - I'll start. - This was really good.\n",
            "- Whoa, whoa a nine. Whoa, whoa, these are high numbers. Whoa, your total score was 26. - All right. - Are you guys ready? - That was a little intimidating but... - Bring it on up.\n",
            "- All right. We wanted to go with a\n",
            "American comfort food. - I don't want to hype y'all\n",
            "up until I've tasted it. - Of course.\n",
            "- But...  I think this going to taste all right. - Really good mac and cheese.\n",
            "- Amazing. - Joey, when you're ready. - Joey.\n",
            "- It was delicious. I love them. - Speed, based on that reaction, I assume you're gonna\n",
            "give something lower? - Miranda, you go. - Nine. - Yes. Thank you. - Are you about to cry? Don't do this to me. - Hey, don't manipulate. - Don't, no.\n",
            "- Speed, vote based on the food. I need you to turn around. Speed, hey, hey, focus. - That's fair, that's fair. - That is also a 26. - You're tripping, bro, a 10? You can't just pass out 10 like that because you like to eat, bro. - There you go. - Welcome to Kai and AJ's - Ratatouille.\n",
            "- Bodega. - First thing's up, Miranda.\n",
            "- Oh yeah. - We have the famous, the one and only, Spencer's spaghetti tacos. - Wow. - That's pretty creative. - That's pretty awesome. - AJ.\n",
            "- Yeah? - Who do we have in the middle? - IShowSpeed.\n",
            "- IShowSpeed. Who is the best football\n",
            "player of all time? - Cristiano Ronaldo.\n",
            "- Ronaldo. Ronaldo pasta just for you. - Don't tell him too much. - Now listen. - Don't tell him too much. - Last but not least, Joey. Bring out the tower of records. - Records tower. - When you eat it, you can feel it. Oh my gosh. Oh my God. - I don't know guys. I don't think I'm going to finish this. - You're good, you're good. Are you hungry, you just\n",
            "came up a good stream. You busting that down, boy. - Bro, so good, bro.\n",
            "- Wait, wait, wait. Really? - All right.\n",
            "- Miranda. - It's a solid spaghetti taco. - I love the show, but\n",
            "at the end of the day, - it's about the food.\n",
            "- It's about the food. Okay, three, two, one, reveal it. There we go. All right, take it away. - We made a creamy\n",
            "chicken, tomato pasta. - This was a dessert\n",
            "inspired by my father. He's not here with us... like in this room,\n",
            "he's still very much alive. - Oh, dog. It's like exquisite, you know? There's like a lemon punching me. - There's the meat. - It's meat punching me. It's good, I don't wanna eat too much. - Yeah, here,\n",
            "I'll remove this fourth. - Got to say Feastables and\n",
            "strawberries taste amazing. - It's very good, right?\n",
            "- Yeah, you should go to Walmart and buy it right\n",
            "now, whoever's watching this. - I'll do it right after this. - I wanna eat more of it. - I really liked it, that's\n",
            "something that I'll order- - Speed not to cut you off,\n",
            "but that's officially above 16, which means these two\n",
            "have now been eliminated. Gentlemen, Miranda\n",
            "doesn't even need to vote. - You guys are gone.\n",
            "- No way. - Bye. - I'm sorry, but it's over. All right, what was your rating? - 10.\n",
            "- A 10. Almost a perfect score. - Wait, wait,\n",
            "wait, wait, wait, wait, One time for the one time, please?\n",
            "It's been so long. - Wait, you just left. - What are you doing? What are you doing? - I couldn't resist throwing a plate. That was a complete mistake. I forgot all about the line. I saw the plate, I was\n",
            "like I need to smash it. It took me back to 2017- - Yeah, when you used to\n",
            "smash plates in your vlogs. - Don't! - Would it make you feel better\n",
            "if I let you promote Prime on your way out? - Sure. Prime the fastest growing\n",
            "beverage in history available at Walmart, Target. Oh, I'm shocked, but also not. I hope Jimmy invites me back. - When he first ran out, I\n",
            "was like, oh, that's funny. - You know what's crazy? Is this cube doesn't feel like the cube with the kitchen set up. - Yeah.\n",
            "- So I can see how maybe he was like- - With this table here too? - It feels so different. - Yeah, this setup is insane. - And now for the final meal. - This is a traditional Spanish tortilla. - Not bad.\n",
            "- Yeah. - Judges, are you ready to reveal it? - Yeah.\n",
            "- yes. - Three, two, one, reveal. - Okay, okay, okay, it's okay. - That adds up to 22, which\n",
            "means you two are eliminated. - Okay. It's been a pleasure. - And with that, five contestants remain. Congratulations. One of you will win a million\n",
            "dollars for your subscribers. It's going to be crazy. - With a million dollars, I'm\n",
            "going to do a find me and win a bunch of money challenge. - I want to use a lot of\n",
            "it to donate as many meals as I possibly can. - We'll host Some really cool\n",
            "chess events for our subs. - I would really like to pay for a lot of people's like art degree. - I'd like to build\n",
            "schools in South Morocco. It could change a lot of lives. - The final five. - Yeah, baby. - When we started, here's\n",
            "what the cube looked like and now everyone literally\n",
            "fits in the money. Now, before we do the last challenge, if you all look over\n",
            "here, open the curtains. These are real play\n",
            "buttons made by YouTube. - Whoever wins,\n",
            "we will also give you every play button of everyone who competed\n",
            "in this tournament. - What?\n",
            "- Wow. - What? That's crazy. - It's like when you collect\n",
            "the heads of people you killed. - Yeah, exactly. All right, bring in the final challenge. At the beginning of each round, everyone will start off blindfolded as I shuffle these five briefcases. Four have nothing in it, one has a million dollar\n",
            "check inside of it. Take your blindfolds off, come grab a briefcase and\n",
            "take them back to your podium. All right, everyone look\n",
            "inside your briefcase. And now that everyone\n",
            "knows what they have, everyone will cast a vote to eliminate one player from the game. If that player's case is\n",
            "empty, they're eliminated. If you guys happen to vote\n",
            "for the player with the money, the game is over and\n",
            "that YouTuber walks away with the million dollars\n",
            "for their subscribers. This is a game of bluffing and how well you can read each other. Which one of you has the best poker face? Start the timer. One of you can win a million dollars in the next few minutes. - Right out the gate, I'm pretty confident it's one of these two. - The women?\n",
            "- Yeah. - Why? - Your facial expressions. - He's a little bit aggressive, no? - He's taking charge. Is he taking charge because he has $0 and he's scared to be voted off? - Could be. - This is tense. - I so far think she has\n",
            "the million, to be honest. - She's the most confident\n",
            "but trying to mask it. - She has the million. - Do you? - I have the million. - So you're saying you\n",
            "have the million dollars? - I have a million dollars. - Okay. - I feel confident that you don't. - What makes you say that? - 'Cause I know she has zero\n",
            "and wants to stay in longer. - You think her briefcase says $0 and she's lying, so\n",
            "you won't vote for her. - She wants to make sure that\n",
            "she stays in another round, but it does not say a million. - Less than five minutes\n",
            "till you all have to decide. - If I didn't know what everybody had, I think it's best to vote as alliances. We were teammates, we were teammates, your teammate ran out. So the easiest thing\n",
            "would be to vote Nick out and then we all have a better chance, if I was playing with no information. - Okay, but you do have info. - So who do you want to vote?\n",
            "- You guys should vote me. - Then we should vote you?\n",
            "- I would like to win. - I think voting Alex is beast. I'm comfortable doing it. I know she doesn't have the million. - That's ballsy. - Everyone here has been very cool and so I'm going to play it by the game and she's lied in this game. - I have the million. If I've lied in the game, wouldn't someone else have also lied? - Yeah, but I know you've lied. - That's risky for the first game, no? - Yeah, you have to take some risks\n",
            "to win a million dollars. - If the risk is wrong, she wins it. You guys should go ahead\n",
            "and start writing down, who are you voting for? All right, let's see who you voted for. Our first vote is for Jaiden Animations. - I didn't even do anything. - That was out of left field. - That was surprising. - Our second vote is for Ludwig. Our third vote is for Amixem. Our fourth vote is Jaiden. - Dude, I didn't-\n",
            "- And the final vote is Ludwig. - Whoa, so it's a tie. - Since we have a tie, we're\n",
            "adding a minute on the timer. You three will get to hear\n",
            "them plead their cases, and then have to revote. Explain why they should or\n",
            "should not vote for you two. - I didn't think we were voting for me. - Well, you would've voted for yourself if you had the million. I think you voted for yourself. - No. - That means Ludwig voted for himself. That means he has it, if this is true. - Who do you think I voted for? - I think you voted for him. - I voted for Ludwig. - Yeah, so did I. - I voted for Jaiden. - Jaiden, who did you vote for? - Him. - You voted for him?\n",
            "- Sorry, this is a no-brainer. - Wait, wait, then you said so did I. - All right, timer hit zero. It's now up to you three to break the tie. Our first vote, Ludwig. How does that make you feel? - Read the second one. - I want to know how that\n",
            "first one made you feel. - I would like for you to read the second. I think it's going to be good. - The second one is Jaiden. - Oh man, dude. - What? - Shaking again. - The person who is opening\n",
            "up their briefcase is Ludwig. If this says a million\n",
            "dollars, the video is over. If it says $0, we do another round. - It's been a pleasure, guys. It is not. - You went beast mode though. - I knew you bluffed. - Gg's.\n",
            "- With Ludwig now eliminated, he joined the rest of the fallen soldiers in our viewing room to watch\n",
            "the rest of the challenge. The second round starts once again with everyone blindfolded. We then reshuffled and\n",
            "the remaining players picked their briefcases. You guys know what to do. Start the 10-minute timer. - Jaiden, did you get a mill again? - But she said you had the million. - And she said she had zero. So everybody's lying, but there's\n",
            "three people who have zero who are going to need to\n",
            "work together to figure out who has a mill. - Yeah.\n",
            "- Did anybody see anything? Any body language? - You're the only one that\n",
            "gave different body language. - You were much more animated.\n",
            "- Yeah. - Do you have anything? - I have a suitcase. - You could also be trying to\n",
            "get the pressure off of you - to try to vote me out.\n",
            "- Absolutely. Absolutely. - I know it's not me. I don't think it's you. - So the million is here or here for you? - Yeah, most likely I think it's you. - You think he has it? - Our first real claim. You're saying he has the\n",
            "million dollar briefcase. - As of right now, I think he\n",
            "has the million dollar briefcase. - Who are you voting for? - It's valuable info. You vote for someone,\n",
            "they vote for themselves. It's two of the four votes. - I haven't decided. - I don't know, for me it's\n",
            "a 50/50 between you two. - Oh, I could vote for you, yeah. - Me?\n",
            "- Yeah, because that's just a matter of statistics, probability. - Like statistically I\n",
            "shouldn't have it again? - That's an interesting point. - All right, write who you\n",
            "want to open the briefcase. Up first, we have a vote for Jaiden. Our second vote is for Alex, one on one. Our third vote is also for Jaiden, and our fourth and final vote is Jaiden. If this has a million\n",
            "dollars, you instantly win. - I think it does. - Oh my gosh. Oh, whoa. You are so chill. I was like, surely she's out. You are the winner. How do you plan on giving\n",
            "it away to your subscribers? - It's hard for a lot\n",
            "of artists out there. I just... I'd really like to send a\n",
            "lot of them to art school. - And there you have it, Jaiden Animations just\n",
            "won a million dollars for her subscribers. - You have to subscribe!\n",
            "- Subscribe! Hey, don't let them down. Do it right now. - Subscribe right now.\n",
            "- You need to subscribe. - I see you. Hit the subscribe button now.\n"
          ]
        }
      ],
      "source": [
        "video_id = '4SNThp0YiU4'\n",
        "try :\n",
        "  transcript_list = YouTubeTranscriptApi.get_transcript(video_id,languages=['en'])\n",
        "  transcript = \" \".join(chunk['text'] for chunk in transcript_list)\n",
        "  print(transcript)\n",
        "except TranscriptsDisabled :\n",
        "  print(\"no caption for this video\")"
      ]
    },
    {
      "cell_type": "code",
      "execution_count": 10,
      "metadata": {
        "colab": {
          "base_uri": "https://localhost:8080/"
        },
        "id": "bWuJBsAYpEpa",
        "outputId": "29caba29-acff-43fc-94f2-11bef1dd3db1"
      },
      "outputs": [
        {
          "data": {
            "text/plain": [
              "38818"
            ]
          },
          "execution_count": 10,
          "metadata": {},
          "output_type": "execute_result"
        }
      ],
      "source": [
        "len(transcript)"
      ]
    },
    {
      "cell_type": "code",
      "execution_count": 11,
      "metadata": {
        "id": "-qgyu_ODpEm7"
      },
      "outputs": [],
      "source": [
        "splitter = RecursiveCharacterTextSplitter(chunk_size=500, chunk_overlap=120)\n",
        "chunks = splitter.create_documents([transcript])"
      ]
    },
    {
      "cell_type": "code",
      "execution_count": 12,
      "metadata": {
        "colab": {
          "base_uri": "https://localhost:8080/"
        },
        "id": "QTE3Zc9Zty16",
        "outputId": "c774b537-7bd6-4c89-80c0-6a55d8ad067f"
      },
      "outputs": [
        {
          "data": {
            "text/plain": [
              "Document(metadata={}, page_content=\"eliminated cases go. - This is so heartbreaking. - Just don't hit a\\nkangaroo on your way home. - I don't like you, Nolan. - And the brutality of these cases didn't stop there. No steal. Because the most brutal was yet to come. Oh my gosh. - I feel stabbed, I do. - Yeah, that was crazy. - I don't want to lie. - You don't want to look at her\\nin the eyes when she opens it? - Oh god, it says eliminated. - I can't do this, it's too hard.\")"
            ]
          },
          "execution_count": 12,
          "metadata": {},
          "output_type": "execute_result"
        }
      ],
      "source": [
        "chunks[55]"
      ]
    },
    {
      "cell_type": "code",
      "execution_count": 13,
      "metadata": {
        "colab": {
          "base_uri": "https://localhost:8080/"
        },
        "id": "SwfUh8xWpEiE",
        "outputId": "3501224a-e490-418a-dd79-9816645eb899"
      },
      "outputs": [
        {
          "data": {
            "text/plain": [
              "102"
            ]
          },
          "execution_count": 13,
          "metadata": {},
          "output_type": "execute_result"
        }
      ],
      "source": [
        "len(chunks)"
      ]
    },
    {
      "cell_type": "code",
      "execution_count": 14,
      "metadata": {
        "id": "6Knrw3z3pEfd"
      },
      "outputs": [],
      "source": [
        "embedding = HuggingFaceEndpointEmbeddings(\n",
        "    repo_id = 'intfloat/e5-small-v2'\n",
        ")"
      ]
    },
    {
      "cell_type": "code",
      "execution_count": null,
      "metadata": {
        "id": "d8Wsq-Z_wapy"
      },
      "outputs": [],
      "source": [
        "embedding = HuggingFaceEndpointEmbeddings(\n",
        "    repo_id='sentence-transformers/all-MiniLM-L6-v2',\n",
        "    huggingfacehub_api_token=api_key\n",
        ")"
      ]
    },
    {
      "cell_type": "code",
      "execution_count": 16,
      "metadata": {
        "colab": {
          "base_uri": "https://localhost:8080/"
        },
        "id": "tTvn2tIXrXN2",
        "outputId": "a00f6fe5-9170-4ff5-d234-49e95cf08209"
      },
      "outputs": [
        {
          "name": "stderr",
          "output_type": "stream",
          "text": [
            "/usr/local/lib/python3.11/dist-packages/huggingface_hub/utils/_auth.py:94: UserWarning: \n",
            "The secret `HF_TOKEN` does not exist in your Colab secrets.\n",
            "To authenticate with the Hugging Face Hub, create a token in your settings tab (https://huggingface.co/settings/tokens), set it as secret in your Google Colab and restart your session.\n",
            "You will be able to reuse this secret in all of your notebooks.\n",
            "Please note that authentication is recommended but still optional to access public models or datasets.\n",
            "  warnings.warn(\n"
          ]
        }
      ],
      "source": [
        "vector_store = FAISS.from_documents(chunks,embedding)"
      ]
    },
    {
      "cell_type": "code",
      "execution_count": 17,
      "metadata": {
        "colab": {
          "base_uri": "https://localhost:8080/"
        },
        "id": "7gF8JSOUrXAE",
        "outputId": "09ed6ea5-27cd-408b-c992-81cc678f32ee"
      },
      "outputs": [
        {
          "data": {
            "text/plain": [
              "{0: '2af7e3eb-b33f-4af3-ba19-53b4f584fc6e',\n",
              " 1: '79961026-9aed-4199-bfd3-becde9024b02',\n",
              " 2: 'fbf5a0ba-721a-4a2e-ba7a-47c424afa985',\n",
              " 3: 'a0e8ec03-905c-4be7-afcc-7948e77960c6',\n",
              " 4: 'db5920bf-bed6-4194-924d-264aba528e09',\n",
              " 5: '0a64cc05-030e-4ce7-b95f-a3ef7f6ab10a',\n",
              " 6: '7c7ba633-14a2-43b6-9312-e59000841fb4',\n",
              " 7: '92e5bda8-8335-47e7-9757-5199f43f6b8f',\n",
              " 8: '9f01862c-3637-47bd-8a8a-9eed843a88d5',\n",
              " 9: '8de451e9-f31d-4b6c-b621-004e71863812',\n",
              " 10: 'a74bf634-b475-4774-9e9d-3218c5491a4a',\n",
              " 11: '7f3d6efc-5b03-498b-829f-f063419a9952',\n",
              " 12: '4efb397e-3406-4ef1-9b12-1620f4cba43d',\n",
              " 13: '6c009f3d-3604-44d5-ae59-5f56ad234bf8',\n",
              " 14: 'a6cc87da-c354-4f9c-bbd8-6bf1b0eb5b0c',\n",
              " 15: '0a7b5796-edb0-48d3-8f79-781a234e7f8a',\n",
              " 16: 'f39c65b4-b1e2-4e9b-90b3-36e7b1e587d6',\n",
              " 17: '3a03c15d-9c41-495f-bd1b-98c2f7073534',\n",
              " 18: '5d8107e2-07df-4c0c-9605-67e658f8e5e6',\n",
              " 19: '0430855a-35be-42f5-a86a-45d1bbb3813a',\n",
              " 20: 'bc9bac31-af24-42a8-a664-986b84604dab',\n",
              " 21: 'd5b6f671-ed3e-4169-a34e-ae594c4a7b9c',\n",
              " 22: '096d7aa5-c711-45c9-b0ea-48ca2365f0c9',\n",
              " 23: '397eae68-0c5e-4e60-b21f-92827ccde2db',\n",
              " 24: 'c29622e8-6469-4361-9efb-ffe561f3c914',\n",
              " 25: '62d91ab4-663a-4250-8517-0bc447dc1d55',\n",
              " 26: 'b56873b3-667f-4e72-8332-8929f1f8a6de',\n",
              " 27: '67a72aef-a76d-4f0d-b5fe-9e55289e1aa0',\n",
              " 28: '497d3d8c-ff1c-4f19-a730-636806603488',\n",
              " 29: 'dbf61476-a070-4811-aead-75ed2898719b',\n",
              " 30: 'ec11f890-3a8a-41f1-acd6-023ad494dd30',\n",
              " 31: '3bb0899c-6913-4d09-b99e-375f428114cc',\n",
              " 32: '51f2d4a2-872a-43cd-b082-75b0903eacff',\n",
              " 33: '117538d3-107d-4556-8893-32eaed3c9ea0',\n",
              " 34: '48c1eb95-6271-48c3-88e9-73afec85629b',\n",
              " 35: '3bd6c6a6-c290-48cf-80d8-8e8f982044d1',\n",
              " 36: 'a75f837a-72f2-43a5-8573-5f02e0d3da0d',\n",
              " 37: 'e6181990-fb1b-44b2-894d-fea68c67865e',\n",
              " 38: 'abd31a31-1c0d-48cb-af38-938c76886ca5',\n",
              " 39: 'ee4b3010-67b8-4022-bef3-5f5cf0ff0f04',\n",
              " 40: '8afdd064-9251-451c-9451-c0e0334b52e8',\n",
              " 41: 'c34ae29b-5316-4ece-ba62-3f8ed1526fe2',\n",
              " 42: '027ccc1b-7d9f-4fe6-ba65-804a72665efd',\n",
              " 43: '18b862df-c964-4877-97a1-00881476e1a3',\n",
              " 44: '1d058e00-d759-440b-aeff-3ed105e15a80',\n",
              " 45: '4a7c7876-5230-4fc1-964f-be00e7e21408',\n",
              " 46: '99ca602e-ffe1-4d8c-87fc-c420def9ac4e',\n",
              " 47: 'd0b1335e-87df-46c6-b268-67ababd4eb9c',\n",
              " 48: '2e33d5e4-054c-4676-b828-e66a32052434',\n",
              " 49: 'eb49b92a-7114-4ba7-a806-ca76c9946ad6',\n",
              " 50: '3ee0efe3-3e92-401e-a839-d71a428570e8',\n",
              " 51: '8f8837c6-6141-44fd-a96c-dcd66800bff9',\n",
              " 52: 'b00d5584-53e5-43f1-8cdc-7ad1a12b7261',\n",
              " 53: '912d9cd4-ee5f-4ae4-87d6-50fbc441c793',\n",
              " 54: '68d97d68-ce39-4c4f-9c7d-78bbf19f16cc',\n",
              " 55: '565e4b99-b1f1-4644-8ed2-50bba7ac4f28',\n",
              " 56: '9f1a63e6-460e-49a0-a2de-7dcdb9bd2b4d',\n",
              " 57: 'b2e4dc2a-9beb-48fb-a163-bf7cb00fd4e5',\n",
              " 58: '67860c08-50ed-483c-830d-4a60f3482ef9',\n",
              " 59: '7d002428-0e93-41b8-8567-4ce1dfedf0ac',\n",
              " 60: '03feee7a-48c7-4d44-bdeb-c06ebd59b462',\n",
              " 61: 'b7ff9b90-0d6d-49a4-9c85-c0527ee7da2f',\n",
              " 62: '19e0b026-ce51-4374-891e-67ff3f09d36d',\n",
              " 63: '7e9c63bd-7458-40e0-8113-ebebfecb1e62',\n",
              " 64: 'c4534259-0365-4c2d-9794-c276217b6aad',\n",
              " 65: '0784ee40-118b-4823-9a40-5be037494789',\n",
              " 66: '39584f8c-60e1-4326-85ec-440a0ebc230a',\n",
              " 67: 'cb403f3a-d960-4b3f-acbd-e8af13ae4b6e',\n",
              " 68: '0717b573-5d04-4125-834b-21f858f048f7',\n",
              " 69: 'c250edac-a91c-4e45-9589-80d87bb81dec',\n",
              " 70: 'a2e1876b-7787-4e97-bd8c-b9a3dc032d8d',\n",
              " 71: '980f2c63-c695-458e-84ff-0dabd087e896',\n",
              " 72: '9a574479-2864-4a52-b0a5-e076aae8cd86',\n",
              " 73: '83fa00aa-6f31-436e-b5b0-5049ac8ff365',\n",
              " 74: '31d824a0-d07d-41e5-b087-65a6adfcb6a3',\n",
              " 75: '81e48e51-e2cb-4ef2-8a9f-8a612e95174e',\n",
              " 76: 'ee4b938f-e66e-401a-b4a6-aed3056e3595',\n",
              " 77: 'bd42a245-baeb-445c-affd-212e32dfa819',\n",
              " 78: 'a306bd89-a4b0-4e27-87fa-4bf5f2465635',\n",
              " 79: 'fe6e2d93-f860-4bd8-a293-e2b9e899e07d',\n",
              " 80: '995b7009-a28f-4a72-9f13-183981325344',\n",
              " 81: '09b89d37-8a45-470e-a20f-2c0fb2a768ee',\n",
              " 82: '2f95aef9-4c5e-4293-b6f8-fedf5bd11097',\n",
              " 83: 'b45e5b75-8d2a-48b6-98bf-22d803185094',\n",
              " 84: '737d430b-8b39-4a5b-a60a-197035545c5e',\n",
              " 85: 'f7e64d85-5f0c-4e7e-abd3-fc45ea671943',\n",
              " 86: 'ada11796-8faf-474a-b85b-c31c743b4e85',\n",
              " 87: '20fd171f-eb15-4599-816d-c1f85d07a501',\n",
              " 88: 'b754e2b9-04ad-4c71-853f-45d307d01ab3',\n",
              " 89: '591cb2b3-1e9f-4a24-a9d1-47f80ba3d08f',\n",
              " 90: '49484109-6ef7-4cc3-a3b2-1280645e1308',\n",
              " 91: 'b062a1c0-acae-4d08-bb20-5529846db09a',\n",
              " 92: '96d2c395-8846-4608-80e3-3584429eb87d',\n",
              " 93: 'aa793480-8546-4425-a222-14ed1226b895',\n",
              " 94: '4159e44e-b05a-4f1d-b601-45553150b024',\n",
              " 95: 'f033c6c1-4564-4782-af21-61152346fa98',\n",
              " 96: '4153e888-8fa0-4d6f-b8f6-90877985b77c',\n",
              " 97: '39a4d59e-1dbf-41be-b779-bf2397df465b',\n",
              " 98: 'a7e3239b-fe2f-473d-abf9-bce7df439e33',\n",
              " 99: '58e9ad82-c675-4036-884c-18480ab0f0ff',\n",
              " 100: '6ce88566-06d2-4497-99cd-f87b979b645a',\n",
              " 101: '8c9386de-12b6-4567-aeac-c5bb5663dde2'}"
            ]
          },
          "execution_count": 17,
          "metadata": {},
          "output_type": "execute_result"
        }
      ],
      "source": [
        "vector_store.index_to_docstore_id"
      ]
    },
    {
      "cell_type": "code",
      "execution_count": 18,
      "metadata": {
        "colab": {
          "base_uri": "https://localhost:8080/"
        },
        "id": "9aVkL3Afwibp",
        "outputId": "36b9b3be-e087-4770-9fef-1d42e5ae293b"
      },
      "outputs": [
        {
          "data": {
            "text/plain": [
              "[]"
            ]
          },
          "execution_count": 18,
          "metadata": {},
          "output_type": "execute_result"
        }
      ],
      "source": [
        "vector_store.get_by_ids(['b57edc89-d92b-4970-8449-11530f231cd5'])"
      ]
    },
    {
      "cell_type": "code",
      "execution_count": 19,
      "metadata": {
        "id": "U0Zlwd1jwy1x"
      },
      "outputs": [],
      "source": [
        "#retrival"
      ]
    },
    {
      "cell_type": "code",
      "execution_count": 36,
      "metadata": {
        "id": "Sd4Wbrr6w1_Z"
      },
      "outputs": [],
      "source": [
        "retriever = vector_store.as_retriever(search_kwargs={'k':2},search_type='similarity')"
      ]
    },
    {
      "cell_type": "code",
      "execution_count": 37,
      "metadata": {
        "colab": {
          "base_uri": "https://localhost:8080/"
        },
        "id": "B0_tJN4jxPUa",
        "outputId": "e345fdfe-d313-4b63-bc14-ae0646fb1a12"
      },
      "outputs": [
        {
          "data": {
            "text/plain": [
              "VectorStoreRetriever(tags=['FAISS', 'HuggingFaceEndpointEmbeddings'], vectorstore=<langchain_community.vectorstores.faiss.FAISS object at 0x7e12a8bdbf50>, search_kwargs={'k': 2})"
            ]
          },
          "execution_count": 37,
          "metadata": {},
          "output_type": "execute_result"
        }
      ],
      "source": [
        "retriever"
      ]
    },
    {
      "cell_type": "code",
      "execution_count": 22,
      "metadata": {
        "colab": {
          "base_uri": "https://localhost:8080/"
        },
        "id": "iR8xLxuDxQt5",
        "outputId": "932ef385-487b-406b-965d-b390355d9d60"
      },
      "outputs": [
        {
          "data": {
            "text/plain": [
              "[Document(id='c34ae29b-5316-4ece-ba62-3f8ed1526fe2', metadata={}, page_content=\"24 hours of this challenge. And I'm going to be honest,\\nit's actually pretty crazy. All these YouTubers are\\njust casually sleeping next to $1 million in cash. And by the end of this video, it could quite literally be yours. - Hey, yo. Good morning, Logang. What's popping? - Oh my God, that takes me back. I'm getting tingles, bro. - Ohayo. - Ohio? - It's good morning. - Ohayo. - Time to lock in and do\\nit for the subscribers. - Good morning.\"),\n",
              " Document(id='67a72aef-a76d-4f0d-b5fe-9e55289e1aa0', metadata={}, page_content=\"thinned and I'm going to win. - And while setting\\nup the next challenge, I let the 34 remaining\\nYouTubers entertain themselves. - We can play a game. How close can you get to that line, bro? - We can do that with bottle caps. - That's right,\\nthe device that entertains your favorite creators are bottle caps. - Oh, whoa.\\n- Whoa. - Hey, watch this, watch this. - Not going to think about it. - Wow!\\n- No way! Oh my God! No way! - It's him, he's him.\"),\n",
              " Document(id='a0e8ec03-905c-4be7-afcc-7948e77960c6', metadata={}, page_content=\"the goofing around memo. Look at all the YouTubers\\nlaughing and having a good time. By the end of this video, that's not going to be the case. This video is absolutely\\nthe most brutal... - I hate you, Jimmy. - Cutthroat piece\\nof content you've ever seen these creators in. And the first challenge starts right now. Pull the curtain. You guys are not ready for this. - Whoa! - What the?\"),\n",
              " Document(id='f033c6c1-4564-4782-af21-61152346fa98', metadata={}, page_content=\"up their briefcase is Ludwig. If this says a million\\ndollars, the video is over. If it says $0, we do another round. - It's been a pleasure, guys. It is not. - You went beast mode though. - I knew you bluffed. - Gg's.\\n- With Ludwig now eliminated, he joined the rest of the fallen soldiers in our viewing room to watch\\nthe rest of the challenge. The second round starts once again with everyone blindfolded. We then reshuffled and\"),\n",
              " Document(id='ada11796-8faf-474a-b85b-c31c743b4e85', metadata={}, page_content=\"for the player with the money, the game is over and\\nthat YouTuber walks away with the million dollars\\nfor their subscribers. This is a game of bluffing and how well you can read each other. Which one of you has the best poker face? Start the timer. One of you can win a million dollars in the next few minutes. - Right out the gate, I'm pretty confident it's one of these two. - The women?\")]"
            ]
          },
          "execution_count": 22,
          "metadata": {},
          "output_type": "execute_result"
        }
      ],
      "source": [
        "retriever.invoke(\"who is the winner of the video\")"
      ]
    },
    {
      "cell_type": "code",
      "execution_count": 23,
      "metadata": {
        "id": "JwC-FjLfxcMp"
      },
      "outputs": [],
      "source": [
        "#augumentation"
      ]
    },
    {
      "cell_type": "code",
      "execution_count": null,
      "metadata": {
        "id": "YSLPBysCyCQC"
      },
      "outputs": [],
      "source": [
        "llmn = HuggingFaceEndpoint(\n",
        "    repo_id = 'HuggingFaceH4/zephyr-7b-beta',\n",
        "    task = 'text-generation',\n",
        "    huggingfacehub_api_token = api_key,\n",
        ")\n",
        "\n",
        "\n",
        "model = ChatHuggingFace(\n",
        "    llm = llmn,\n",
        "    verbose = True\n",
        ")"
      ]
    },
    {
      "cell_type": "code",
      "execution_count": 25,
      "metadata": {
        "id": "P5WvBXcax9mZ"
      },
      "outputs": [],
      "source": [
        "prompt = PromptTemplate(\n",
        "    template = '''\n",
        "    you are a very helpful assistant.\n",
        "    answer only from the provided transcript context.\n",
        "    if the context is insufficient, just say you don't know.\n",
        "\n",
        "    {context}\n",
        "    question : {question}\n",
        "    ''',\n",
        "    input_variables = ['context','question']\n",
        ")"
      ]
    },
    {
      "cell_type": "code",
      "execution_count": 26,
      "metadata": {
        "id": "4FC77jKiykU5"
      },
      "outputs": [],
      "source": [
        "question = 'which youtuber won 1 million doller, winner of this video'\n",
        "retriveved_docs = retriever.invoke(question)"
      ]
    },
    {
      "cell_type": "code",
      "execution_count": 27,
      "metadata": {
        "id": "uHe1Uwo0yzdJ"
      },
      "outputs": [],
      "source": [
        "context_text = '\\n\\n'.join(doc.page_content for doc in retriveved_docs)"
      ]
    },
    {
      "cell_type": "code",
      "execution_count": 28,
      "metadata": {
        "id": "M4YbRspty8ap"
      },
      "outputs": [],
      "source": [
        "final_prompt = prompt.invoke({'context':context_text,'question':question})"
      ]
    },
    {
      "cell_type": "code",
      "execution_count": 29,
      "metadata": {
        "colab": {
          "base_uri": "https://localhost:8080/"
        },
        "id": "s2iCxGs4zZQ5",
        "outputId": "a8c4bace-e695-444f-c7e4-1c16bf208a6c"
      },
      "outputs": [
        {
          "data": {
            "text/plain": [
              "StringPromptValue(text=\"\\n    you are a very helpful assistant.\\n    answer only from the provided transcript context.\\n    if the context is insufficient, just say you don't know.\\n\\n    - I've gathered 50 of the\\nbiggest YouTubers on the planet. And whichever one lasts\\nthe longest in this cube wins that million dollars\\nfor their subscribers. Never before seen in YouTube history, 1 billion subscribers worth of YouTubers are competing for $1 million. And the rules are simple. All right, point the camera\\ndown, close the line. - Oh!\\n- Okay. So if you step on the red line, you lose your subscribers\\na million dollars. So be careful. Last to leave wins it all. - Like, bro, I\\n\\nfor the player with the money, the game is over and\\nthat YouTuber walks away with the million dollars\\nfor their subscribers. This is a game of bluffing and how well you can read each other. Which one of you has the best poker face? Start the timer. One of you can win a million dollars in the next few minutes. - Right out the gate, I'm pretty confident it's one of these two. - The women?\\n\\n24 hours of this challenge. And I'm going to be honest,\\nit's actually pretty crazy. All these YouTubers are\\njust casually sleeping next to $1 million in cash. And by the end of this video, it could quite literally be yours. - Hey, yo. Good morning, Logang. What's popping? - Oh my God, that takes me back. I'm getting tingles, bro. - Ohayo. - Ohio? - It's good morning. - Ohayo. - Time to lock in and do\\nit for the subscribers. - Good morning.\\n\\nthinned and I'm going to win. - And while setting\\nup the next challenge, I let the 34 remaining\\nYouTubers entertain themselves. - We can play a game. How close can you get to that line, bro? - We can do that with bottle caps. - That's right,\\nthe device that entertains your favorite creators are bottle caps. - Oh, whoa.\\n- Whoa. - Hey, watch this, watch this. - Not going to think about it. - Wow!\\n- No way! Oh my God! No way! - It's him, he's him.\\n\\nit's for the YouTube community. Whoever is the first\\nneeds to be respected. - Let's go.\\n- I've been watching since 2014. - All right, you know what? - I am very happy - Oh, now I wish you would've won. The last tower standing\\nwas without a doubt, the most competitive game we had. Pull that bad boy. These two were at it for\\nmore than two hours longer than the rest of the YouTubers. - That's crazy. Oh. No, no, no. - You got it, yo. - No.\\n    question : which youtuber won 1 million doller, winner of this video\\n    \")"
            ]
          },
          "execution_count": 29,
          "metadata": {},
          "output_type": "execute_result"
        }
      ],
      "source": [
        "final_prompt"
      ]
    },
    {
      "cell_type": "code",
      "execution_count": null,
      "metadata": {
        "id": "2zIpzV8zzaxp"
      },
      "outputs": [],
      "source": [
        "# generation"
      ]
    },
    {
      "cell_type": "code",
      "execution_count": null,
      "metadata": {
        "colab": {
          "base_uri": "https://localhost:8080/"
        },
        "id": "63a0nE4Izh5Z",
        "outputId": "2be5fa97-079e-4ddd-dfca-5132cafdebbc"
      },
      "outputs": [
        {
          "name": "stdout",
          "output_type": "stream",
          "text": [
            "Unfortunately, the given transcript context does not reveal who won the million dollars in this YouTube challenge. The video ends with the statement \"the last tower standing was without a doubt, the most competitive game we had,\" implying that the winner may have emerged from that particular challenge, but it is not explicitly stated.\n"
          ]
        }
      ],
      "source": [
        "result = model.invoke(final_prompt)\n",
        "print(result.content)"
      ]
    },
    {
      "cell_type": "markdown",
      "metadata": {
        "id": "Yg09trYDMDNc"
      },
      "source": [
        "#Building Chain"
      ]
    },
    {
      "cell_type": "code",
      "execution_count": 38,
      "metadata": {
        "id": "-CBeT4wNMFnz"
      },
      "outputs": [],
      "source": [
        "from langchain_core.runnables import RunnableParallel, RunnablePassthrough, RunnableLambda\n",
        "from langchain_core.output_parsers import StrOutputParser"
      ]
    },
    {
      "cell_type": "code",
      "execution_count": 39,
      "metadata": {
        "id": "qt3gsktJMoP4"
      },
      "outputs": [],
      "source": [
        "def format_docs(retriveved_docs):\n",
        "  context_text = '\\n\\n'.join(doc.page_content for doc in retriveved_docs)\n",
        "  return context_text"
      ]
    },
    {
      "cell_type": "code",
      "execution_count": 40,
      "metadata": {
        "id": "WT4Ydqc1M3Xv"
      },
      "outputs": [],
      "source": [
        "parallel_chain = RunnableParallel({\n",
        "    'context': retriever | RunnableLambda(format_docs),\n",
        "    'question':RunnablePassthrough()\n",
        "})"
      ]
    },
    {
      "cell_type": "code",
      "execution_count": 43,
      "metadata": {
        "colab": {
          "base_uri": "https://localhost:8080/"
        },
        "id": "mu9Cywt0OIH2",
        "outputId": "80f3e037-0939-4c73-a0c2-fac3c98061a4"
      },
      "outputs": [
        {
          "data": {
            "text/plain": [
              "{'context': \"it's for the YouTube community. Whoever is the first\\nneeds to be respected. - Let's go.\\n- I've been watching since 2014. - All right, you know what? - I am very happy - Oh, now I wish you would've won. The last tower standing\\nwas without a doubt, the most competitive game we had. Pull that bad boy. These two were at it for\\nmore than two hours longer than the rest of the YouTubers. - That's crazy. Oh. No, no, no. - You got it, yo. - No.\\n\\n- I've gathered 50 of the\\nbiggest YouTubers on the planet. And whichever one lasts\\nthe longest in this cube wins that million dollars\\nfor their subscribers. Never before seen in YouTube history, 1 billion subscribers worth of YouTubers are competing for $1 million. And the rules are simple. All right, point the camera\\ndown, close the line. - Oh!\\n- Okay. So if you step on the red line, you lose your subscribers\\na million dollars. So be careful. Last to leave wins it all. - Like, bro, I\",\n",
              " 'question': 'youtuber carrymination aka ajay nager mension in this video'}"
            ]
          },
          "execution_count": 43,
          "metadata": {},
          "output_type": "execute_result"
        }
      ],
      "source": [
        "parallel_chain.invoke('youtuber carrymination aka ajay nager mension in this video')"
      ]
    },
    {
      "cell_type": "code",
      "execution_count": 44,
      "metadata": {
        "id": "sgs4lQ-CON0T"
      },
      "outputs": [],
      "source": [
        "parser = StrOutputParser()"
      ]
    },
    {
      "cell_type": "code",
      "execution_count": 45,
      "metadata": {
        "id": "a5vtYdNIPpFs"
      },
      "outputs": [],
      "source": [
        "main_chain = parallel_chain | prompt | model | parser"
      ]
    },
    {
      "cell_type": "code",
      "execution_count": 47,
      "metadata": {
        "colab": {
          "base_uri": "https://localhost:8080/",
          "height": 90
        },
        "id": "8US36hLuPs31",
        "outputId": "629a19f4-4343-4d52-97a3-55d6975e1527"
      },
      "outputs": [
        {
          "data": {
            "application/vnd.google.colaboratory.intrinsic+json": {
              "type": "string"
            },
            "text/plain": [
              "'The video promises to be the most brutal and intense challenge for popular YouTubers. The first challenge involves drawing a curtain, which leads to chaos and boredom among the participants. Some of the YouTubers leave the area, but four have already departed, and one more needs to go before the next challenge can begin. The viewer is left wondering what the next challenge will involve. Overall, the video sets up an anticipation for something extreme and unexpected.'"
            ]
          },
          "execution_count": 47,
          "metadata": {},
          "output_type": "execute_result"
        }
      ],
      "source": [
        "main_chain.invoke('can you samarize the video')"
      ]
    },
    {
      "cell_type": "code",
      "execution_count": null,
      "metadata": {
        "id": "M9GDzsQcP3f0"
      },
      "outputs": [],
      "source": []
    },
    {
      "cell_type": "code",
      "execution_count": 64,
      "metadata": {
        "id": "WZs6u2cAUrch"
      },
      "outputs": [],
      "source": [
        "def fetch_video_id(url):\n",
        "  video_id = url.split('=')[1]\n",
        "  return video_id\n",
        "\n",
        "def format_docs(retriveved_docs):\n",
        "  context_text = '\\n\\n'.join(doc.page_content for doc in retriveved_docs)\n",
        "  return context_text"
      ]
    },
    {
      "cell_type": "code",
      "execution_count": null,
      "metadata": {
        "id": "GKsNstVuUrZG"
      },
      "outputs": [],
      "source": [
        "def youtube_chatbot(url,question):\n",
        "  # fetch the video id of url\n",
        "  video_id = fetch_video_id(url)\n",
        "  # print(video_id)\n",
        "  # fetch youtube video transcript\n",
        "  video_id = 'g6tlNyr5sl8'\n",
        "  try :\n",
        "    transcript_list = YouTubeTranscriptApi.get_transcript(video_id,languages=['en'])\n",
        "    transcript = \" \".join(chunk['text'] for chunk in transcript_list)\n",
        "    # print(transcript)\n",
        "  except TranscriptsDisabled :\n",
        "    print(\"no caption for this video\")\n",
        "\n",
        "  # text splitter\n",
        "  splitter = RecursiveCharacterTextSplitter(chunk_size = 800, chunk_overlap = 200)\n",
        "  chunks = splitter.create_documents([transcript])\n",
        "\n",
        "  # embedding model\n",
        "  embedding = HuggingFaceEndpointEmbeddings(\n",
        "      repo_id = 'sentence-transformers/all-MiniLM-L6-v2',\n",
        "      huggingfacehub_api_token = api_key\n",
        "  )\n",
        "  # llm\n",
        "  llm = HuggingFaceEndpoint(\n",
        "      repo_id = 'HuggingFaceH4/zephyr-7b-beta',\n",
        "      task = 'text-generation',\n",
        "      huggingfacehub_api_token = api_key\n",
        "  )\n",
        "  # chatmodel\n",
        "  model = ChatHuggingFace(\n",
        "      llm = llm,\n",
        "      verbose = True\n",
        "  )\n",
        "  # prompt template\n",
        "  prompt = PromptTemplate(\n",
        "      template = '''\n",
        "      you are a very helpful assistant.\n",
        "      answer only from the provided transcript context.\n",
        "      if the context is insufficient, just say you don't know.\n",
        "\n",
        "      {context}\n",
        "      question : {question}\n",
        "      ''',\n",
        "      input_variables=['context','question']\n",
        "  )\n",
        "  # vector store\n",
        "  vector_store = FAISS.from_documents(chunks,embedding)\n",
        "  # retriver\n",
        "  retriever = vector_store.as_retriever(search_kwargs={'k':3}, search_type = 'similarity')\n",
        "  # create parallel chain through runnable\n",
        "  parallel_chain = RunnableParallel({\n",
        "      'context': retriever | RunnableLambda(format_docs),\n",
        "      'question': RunnablePassthrough()\n",
        "  })\n",
        "  # string output parser\n",
        "  parser = StrOutputParser()\n",
        "\n",
        "  main_chain = parallel_chain | prompt | model | parser\n",
        "  result = main_chain.invoke(question)\n",
        "  print(result)\n",
        "  return result"
      ]
    },
    {
      "cell_type": "code",
      "execution_count": 80,
      "metadata": {
        "colab": {
          "base_uri": "https://localhost:8080/",
          "height": 1000
        },
        "id": "U_iAUjFwWJct",
        "outputId": "4f4c2b88-399d-4f48-f80b-7b3d6b27cf71"
      },
      "outputs": [
        {
          "name": "stdout",
          "output_type": "stream",
          "text": [
            "This is me on top of a speeding train. And this is me in a hot air balloon to answer some\n",
            "of the most debated science questions on the internet. For example, my hot air balloon pilot here says\n",
            "he can land me anywhere I want, and yet there's nothing here that resembles a steering wheel,\n",
            "which begs the question, how do you actually steer these things? - So, we steer... - And now I'm on top of the train to learn once\n",
            "and for all, why do you land in the same spot if you jump inside the train but not\n",
            "if you jump on top of the train? But I'm not stopping there. (screaming) - Because today we're gonna investigate 5 more\n",
            "physics and engineering puzzles using simple demonstrations as we go. - Because our goal by the end of this video is not\n",
            "for you just to know the right answers, but more importantly for you to\n",
            "understand why they're the right answers. To kick things off, I've got a science\n",
            "riddle for you that most people get wrong. What is the first man-made\n",
            "object to break the sound barrier? - In other words, an object that travels more\n",
            "than 767 MPH through the air, exceeding the speed of sound, thereby creating a super loud sonic boom. - So what do you think? Most people I ask say either a\n",
            "bullet or a rocket, or even a jet plane. - But this tech goes way\n",
            "back, like 5000 years way back. - Because the first man-made\n",
            "object to break the speed of sound is a whip. - The sound you just heard\n",
            "was literally a sonic boom. Which means at the peak of its motion the tip of the whip is moving faster than 767 MPH. - OK, so if you got that\n",
            "right, time for a bonus question. What's almost surely the first\n",
            "time you yourself heard a Sonic Boom? - Here's your clue. It's a near statistical certainty that everyone\n",
            "has the same answer for this going back millions of years. - That's Right. Thunder. - Basically, the lightning superheats the air 5\n",
            "times hotter than the surface of the sun, and this causes the air to expand so rapidly, it breaks\n",
            "the sound barrier, once again creating a sonic boom. - And if that juicy nugget of knowledge\n",
            "just made your brain feel really good, (cries) Make that sound cooler in post. Yeah. - Buckle up because we've got 6\n",
            "more to go, including at number 2... - Have you ever noticed when grabbing drinks from a\n",
            "cooler that even though they have the same amount of liquid inside, regular\n",
            "Coke sinks, yet Diet Coke floats. Now why would that be? Well, our first clue is that we know less\n",
            "dense objects like this cork float and more dense objects like this bolt sink. However, that's not only true about different\n",
            "objects, it's true about different liquids too. Like for salad dressing, how the less\n",
            "dense oil floats on the more dense vinegar. And sure enough, when we compare the\n",
            "respective labels, you'll notice one glaring difference. The regular Coke has more than 3 tablespoons of\n",
            "real sugar, which makes this can more dense than the Diet Coke, which just\n",
            "has artificial sweetener. That means this one's just a little less dense\n",
            "than water, causing it to float, while this one's just a little more dense\n",
            "than water, causing it to sink. - But we can take this to the next level. Here I have a wall that I filled with 8\n",
            "different household liquids, from honey, to dish soap, to baby oil. And they naturally stack themselves\n",
            "with increasing density as you go down. So if we dump, let's say, a bunch of golf balls\n",
            "in, they'll sink like a Coke can through all the layers until they had a layer that's more dense\n",
            "than they are, at which point the golf balls stop falling and come to rest on top of that layer. - Are you kidding me? - Which means you can have a\n",
            "different item come to rest on every layer. - Whoa. - As long as you spend way\n",
            "more time than you care to admit, - cool! - testing way more items than you care to admit. - This one's a dice roll. - But in the end, it's not hard to\n",
            "rationalize the wasted time when it looks this cool. By the way, you can make a simple version of\n",
            "this at home by filling a drinking glass with cooking oil and dish soap, and then plopping\n",
            "in a Lego guy to ride the ocean wave. So this obviously works with household\n",
            "liquids, but what if the liquid was metal like this? - Because this bowl is 24 lbs... of mercury. It's hard to even submerge my hand in here. Which means if I take an actual cast\n",
            "iron anvil, it should float like a Diet Coke. It's test it out. (laughing) Look at that. I mean, I understand the science\n",
            "behind this, but it still breaks your brain. This is actual cast iron. It's heavy. And yet when you put it in\n",
            "Mercury, it bobs like a cork. Let's go bobbing for anvils. - For number 3, a while back I read\n",
            "about a famous mathematician from the 1600s. He noticed that when he would hang up multiple\n",
            "pendulum clocks in his house, they'd eventually sync up their swings and\n",
            "then they just stay that way. So he wondered just like I did when I first read\n",
            "this, how are these purely mechanical clocks that weren't touching, somehow communicating with\n",
            "each other and after a period of time, agreeing to swing in perfect unison. And since the unofficial motto of CrunchLabs\n",
            "is think like an engineer, I decided to create an experiment to test this for myself. So we got 4 clocks and put them on the wall. And after 4 days... nothing happened. But when you're thinking like an engineer,\n",
            "you know that's not a failure, that's a clue. So I reread the story and picked up on an\n",
            "important detail I'd missed the first time. The clocks weren't mounted on a\n",
            "wall in the way we think of today. It said they were mounted on the same\n",
            "wooden beam that made up part of the wall. And given the construction methods of the\n",
            "1600s, there's a good chance that board had a little wiggle to it. And that wiggle is a very important detail. - Here's What I mean. If I swing this sledgehammer pendulum below me\n",
            "while standing on firm ground, then it's just the sledgehammer pendulum that you see moving. But if I stand on a skateboard where I don't\n",
            "have firm footing, now you can see the pendulum is in fact pushing back and moving me too. Now, here's the wild part. - Because the clock is securely attached to the beam,\n",
            "that beam acts just a tiny bit like the skateboard. So those swinging pendulums are ever\n",
            "so slightly actually moving the wall. So that means as the clocks are just slightly\n",
            "pushing back and nudging the beam, they start to influence and nudge each other too. So if there's a clock that's greatly out of\n",
            "sync with the others, over time, those little nudges get it to line up. So after discovering all this, we took those 4\n",
            "clocks and this time attached them all to a beam, which was attached to the wall\n",
            "with a little bit of wiggle built in. And this time after 4 days, once again, nothing happened. Which once again was a clue, not a failure. As it turns out, for this to actually work with\n",
            "pendulum clocks, you need a very precise ratio of clock to pendulum mass like this one set up here. - So I couldn't get my hands on the perfect\n",
            "pendulum clock, here's another way to observe the same phenomenon with 140 pendulums all sitting on\n",
            "a board that can freely wiggle back and forth. All right, let's give it a shot. Little help here. - This is truly one of the\n",
            "coolest things I've ever seen. - It's like a bunch of stormtroopers. - And just to give you a sense of how quickly they\n",
            "sync up, here's an uninterrupted take so you can see for yourself as the chaos\n",
            "turns to order in less than a minute. - So as you can see, even though we started\n",
            "them totally random, in less than a minute, those nudges do in fact influence each other till\n",
            "they're all swinging together, just like the clocks 400 years ago in the mathematician's house. - Coming in at number 4, have you ever noticed every\n",
            "time you see a full moon, it always looks the same. In other words, it's the\n",
            "same side, even in pictures. Well, what about the other side? - Well, it turns out we don't see the other side\n",
            "because the moon is rotating perfectly in sync as it orbits the Earth, so we\n",
            "only ever see the googly eyes. But that's wild. Like, what are the chances\n",
            "that those would sync up perfectly? - Well, we call this tidal locking. While it seems unlikely, you see this with pretty\n",
            "much all the other planets and their moons in our solar system too. - And this simple demo will\n",
            "give us the right mental model. If the moon was perfectly spherical and balance,\n",
            "it would spin like this, and one side wouldn't be more likely to line up with Earth than the other. But the moon's not perfectly spherical. - Over time, that constant pull of Earth's\n",
            "gravity has caused it to be sort of slightly oblong. - Which we sort of exaggerated a little bit here, but now you'll see since the center of gravity of\n",
            "our moon doesn't exactly line up with the axis by which it rotates like it was here, now, no matter how I spin it, it always happens\n",
            "to be that the heavy side of the moon always faces the strongest source of gravity, which just so happens to\n",
            "be the center of the earth. Well, guess what? Out in space, the actual moon's nearest source\n",
            "of gravity is still the center of the Earth, which means that the real moon will always have the\n",
            "same side pulled towards us, just like with our model. And that means every living thing on this\n",
            "planet that has ever looked up at the moon has always seen that same familiar\n",
            "face, and that will never change. - Now, before we get to the last three,\n",
            "including answering how hot air balloons steer, if you're like me and you love the feeling of\n",
            "that aha moment when you learn something new, then I got great news for you because packaging\n",
            "up that moment is why I created CrunchLabs, - It's Mark Rober's engineering box! - where you get a super fun toy every month in the\n",
            "mail that comes with a video where I teach you all the really cool physics that make it work. So if you want to have a ton of fun building\n",
            "your own toys while experiencing a bunch of those lovely aha moments at the same time,\n",
            "just visit crunchlabs.com to learn more. - And now I'm on top of a train to learn once and\n",
            "for all why do you land in the same spot if you jump inside the train, but not\n",
            "if you jump on top of the train. - We'll get to the jump in a second, but first,\n",
            "let's see if we can glean any clues from this small scale test with two Lego guys, one inside\n",
            "and one on top of the train, but they're in water. Now in a moment, I'm gonna pull on this string,\n",
            "which will move the train car forward, and I want you to think what will\n",
            "happen to each of the Lego guys. Ready? Here we go. Did you catch that? Now because this test was in water, you\n",
            "intuitively sort of had a sense the top guy would fall off and the bottom guy would be fine, right? Well yeah, because the top guy would have to\n",
            "travel through all that still water and that would push back on him. Whereas inside the train car, he's enclosed,\n",
            "so everything in that car, including the water is moving along with the train. So why would I show you this Lego\n",
            "guy standing on a model train in water? - Because it's fundamentally no different\n",
            "than me standing on a real train in air. - Because just like water, air is also a fluid. It's just not as dense as water. You can sort of see how it moves like a fluid\n",
            "here in this demonstration showing hot air coming from a blow dryer. So when a train moves through the\n",
            "air, it's moving through a fluid. To visualize this, let's replace\n",
            "me with a pair of helium balloons. Once again, what do you think will happen here? Well, of course, the balloon inside is\n",
            "totally upright, because just like in water, the air around that balloon is traveling with the train. Whereas on top, the balloon is being pushed\n",
            "back because it has to fight its way through all the stationary air, just like the Lego guy on top\n",
            "being pushed back by all the water around the train in the tank. It's sort of like when you stick your hand out the\n",
            "car window and feel all that resistance from the wind. So going back to the jump, if you were able to\n",
            "visualize all the air molecules like this, you'd see how once we start moving inside the train when\n",
            "I jump, I get no pushback from all my air molecule neighbors because they're pretty\n",
            "chill and we're all traveling together. But on top of the train,\n",
            "it's a whole different story. I'm continuously bonking into a mad rush of\n",
            "trillions of air molecules every second as I whizz by. So if I jump now, it makes total sense why\n",
            "they would push me back and I would land in a whole different spot. For number 6, here's an\n",
            "interesting thought experiment. Let's say you just bought a small\n",
            "two-seater airplane and you know the plane has to be traveling at 60 MPH on a still day to take off. So one day you have the brilliant idea. Why not just create a much shorter runway using a\n",
            "plane sized treadmill that can ramp up to 60 MPH, sending it into the air from your own backyard? - But would that actually work? Well, let's run the experiment\n",
            "together with a small scale model. - Now, the way a plane typically takes off is it\n",
            "needs to reach a certain speed, which, of course, then requires a certain length of runway. So let's see what it is for this model airplane. Looks like it's 10 miles an\n",
            "hour after traveling 15 ft. Now, here we've got our own version of our\n",
            "backyard treadmill runway that will ramp up to our 10 MPH takeoff speed. - So let's see what happens. Make your prediction now if you haven't already. - As we start the treadmill, we're gonna spin\n",
            "the propeller more and more to keep it in the same spot so it stays in the camera frame. - OK, so we're at takeoff speed\n",
            "and sadly, It's not taken off. - At this point, we were suspicious\n",
            "maybe we measured something wrong. So we cranked it up way more. And still nothing. - So does that mean our\n",
            "backyard treadmill idea is a bust? - Let's talk about what needs to happen for a\n",
            "plane to take off, because planes need air flowing around their wings to create lift. Once again, it's sort of like\n",
            "sticking your hand out the car window. You don't feel any lift stopped at a red light. The faster you go, and the more air that\n",
            "flows by your hand, the more lift you feel. Which means no matter how fast our treadmill\n",
            "goes, there's still no air moving over the wings. We're stopped at a red light. And I think part of the confusion many people\n",
            "have with this experiment is they're comparing it to the vehicle they know best, which is a car. Because for a car, the ground is what gives\n",
            "you forward motion, but for a plane, it's the propeller that gives you forward motion. Here's a thought experiment to demonstrate that. Imagine you have a car and a plane\n",
            "on the most slippery ice ever invented. Because the car's engine uses the ground to get\n",
            "forward motion through the tires, no matter how fast you spin those tires,\n",
            "the car will not move an inch. The plane, however, is totally unaffected by the\n",
            "ice, because the plane's wheels aren't powered at all. The forward motion for a plane comes from the\n",
            "propeller in the air, so it would take off with absolutely no problems. It wouldn't know the difference. So knowing that, let's adjust this experiment\n",
            "to give the plane a chance to move forward, which means, of course, We're\n",
            "gonna need a bigger treadmill. So let's get our treadmill back\n",
            "up to that 10 MPH takeoff speed, - and at this point, we're exactly back to\n",
            "where we started with the smaller treadmill. - So to get the plane to move forward, let's just\n",
            "give it more power, causing it to move down our extended treadmill and\n",
            "take off at 10 MPH after 15 ft. - Which, as you recall, is the same speed and\n",
            "distance as when we tested it with no treadmill at all. - So would your brilliant\n",
            "backyard runway treadmill idea work? Absolutely. Assuming, of course, your backyard is\n",
            "the exact length of an actual runway. And now for our final engineering puzzle, we're\n",
            "back in this hot air balloon as I contend with my mild fear of heights. - OK, well, I haven't found a steering wheel, but\n",
            "it does seem pretty clear every time you add hot we go high. - Hot air balloons utilize some pretty\n",
            "straightforward physics, and the clue is right there in the name. Hot air is less dense than cold air, and we know\n",
            "from our Coke cans, less dense things will rise. So when Mateo does this and heats up the air\n",
            "in the balloon, he's basically Diet Coking us. And then over time, the air outside cools back\n",
            "down the air in the balloon, making it more dense, and therefore we start to\n",
            "sink down like regular Coke. - So all you have control over\n",
            "Is whether we go up or down. - Correct. - But you said you could land me wherever I wanted. - That is also correct. - But what if the wind's going that\n",
            "way and I want to land over there? That's gotta be magic. - Yeah, so what we'll do is we'll... - OK, pause here, because to understand Mateo's\n",
            "answer, you first need to understand two things. The first is that if the wind is blowing in one\n",
            "direction in your backyard, 1000 ft above that, it's almost certainly blowing differently, and 1000\n",
            "ft above that, it will once again be totally different. So the question then becomes, how does Mateo know\n",
            "the wind speed and direction at different heights? And that's where number 2 comes in. Because it's someone's job every day to launch\n",
            "two balloons like this into the sky at noon and midnight London time. But this is done in 1000 locations all around\n",
            "the world, all at those same two exact times. And these balloons all have something called a\n",
            "radiosonde attached to them that measures things like altitude, pressure, temperature, and wind,\n",
            "and then they transmit the information back to the ground station, which gets fed into\n",
            "supercomputers, and that's the reason the wind and weather predictions can be so accurate. So 2000 of these massive weather balloons go up\n",
            "every day and they eventually pop and just land somewhere, never to be retrieved. Now, because of this, computers can figure out\n",
            "the wind direction and speed at every level of the atmosphere as you go up. So on a given day, Mateo just checks the\n",
            "daily charts, and if these are the predicted wind directions and speed, and he wants us to\n",
            "land exactly right here, he just needs to raise. And then raise again. And then lower the balloon to catch the\n",
            "appropriate invisible rivers of air to land in the perfect spot. So hot air balloons don't steer, at\n",
            "least not in the normal way we think of. It's more of a tag team with Mother Nature. So in some ways he's less of a magically\n",
            "steering pilot and he's more of a weatherman. - Which means the only real magic here is all\n",
            "the juicy knowledge I just wirelessly transferred through that screen from my brain into yours. This is Timmy, and he is a piano prodigy. He loves to practice and his parents\n",
            "don't have to nag him to practice either. I love it. Do your thing, Timmy. But this is Katie, and she lost all\n",
            "interest in piano after Hot Cross Buns. - Which means practice is a battle\n",
            "and a chore she doesn't want to do. And let's face it, mom\n",
            "doesn't exactly want to hear either. - Well, I got great news for you, Katie and mom,\n",
            "because for the cost of one month of begrudging piano lessons and reactions like this, you can\n",
            "get an entire year of CrunchLab's Build Box with reactions like this. - And when the stoke level is this high, you're\n",
            "learning so much cool stuff even without realizing you're learning so much cool stuff. Because each month when the new toy arrives on\n",
            "your porch and then you put it together alongside me, you're learning all the cool\n",
            "engineering principles that make it work. And this secret sauce of hiding the vegetables\n",
            "is the reason we've shipped millions of these boxes to converted parents around the world saying\n",
            "this has totally unlocked a new level of resilience, curiosity, and passion in their kids. - And there's even two options. You've got Build Box where I teach them the basics\n",
            "through building a super fun toy for kids up to 12 years old. And then there's Hack Pack where we learn some\n",
            "coding with an awesome build it yourself robot for your teens or heck, even for you. - Half of these things get shipped to adults. - So if you want to go from being the household\n",
            "nagger to the household legend, watching a young mind discover a passion they didn't even know\n",
            "they had, go to CrunchLabs.com or use the link in the video description where we're currently giving away\n",
            "either 1 or 2 boxes free as an early spring special. Thanks for watching.\n",
            "The video explores the idea of using a treadmill to launch a plane from a short runway in one's backyard. The scientific basis behind this is explained, highlighting that planes need to reach a certain speed to take off, which requires a specific length of runway. The video introduces the concept of wind direction and speed changing at different heights through balloons being launched in 1000 locations worldwide at specific times. The experiment is conducted using a small-scale model, but the aircraft fails to take off despite ramping up the treadmill's speed. The video questions if this backyard treadmill idea is feasible, highlighting the need for airflow around the wings to create lift. Overall, the summary is that the video presents an imaginative concept to launch a plane from a short runway using a treadmill, but the scientific principles behind plane takeoffs and wind direction prevent it from being a viable solution.\n"
          ]
        },
        {
          "data": {
            "application/vnd.google.colaboratory.intrinsic+json": {
              "type": "string"
            },
            "text/plain": [
              "\"The video explores the idea of using a treadmill to launch a plane from a short runway in one's backyard. The scientific basis behind this is explained, highlighting that planes need to reach a certain speed to take off, which requires a specific length of runway. The video introduces the concept of wind direction and speed changing at different heights through balloons being launched in 1000 locations worldwide at specific times. The experiment is conducted using a small-scale model, but the aircraft fails to take off despite ramping up the treadmill's speed. The video questions if this backyard treadmill idea is feasible, highlighting the need for airflow around the wings to create lift. Overall, the summary is that the video presents an imaginative concept to launch a plane from a short runway using a treadmill, but the scientific principles behind plane takeoffs and wind direction prevent it from being a viable solution.\""
            ]
          },
          "execution_count": 80,
          "metadata": {},
          "output_type": "execute_result"
        }
      ],
      "source": [
        "youtube_chatbot(url='https://www.youtube.com/watch?v=g6tlNyr5sl8',question=\"generate the summary of the video\")"
      ]
    },
    {
      "cell_type": "code",
      "execution_count": null,
      "metadata": {
        "id": "GtzZfDaVWbi1"
      },
      "outputs": [],
      "source": []
    }
  ],
  "metadata": {
    "colab": {
      "provenance": []
    },
    "kernelspec": {
      "display_name": "Python 3",
      "name": "python3"
    },
    "language_info": {
      "name": "python"
    }
  },
  "nbformat": 4,
  "nbformat_minor": 0
}
