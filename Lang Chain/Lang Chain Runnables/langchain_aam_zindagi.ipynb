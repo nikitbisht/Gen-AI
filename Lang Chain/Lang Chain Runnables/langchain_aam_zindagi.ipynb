{
 "cells": [
  {
   "cell_type": "code",
   "execution_count": 1,
   "id": "6df88180",
   "metadata": {},
   "outputs": [],
   "source": [
    "import random\n",
    "class nakliLLM:\n",
    "    def __init__(self):\n",
    "        print(\"llm created\")\n",
    "    def predict(self,prompt):\n",
    "        response_list = [\n",
    "            'delhi is the capital of india',\n",
    "            'ipl is a cricket league',\n",
    "            'ai stand for artificial inteligence'\n",
    "        ]\n",
    "        return {'response':random.choice(response_list)}"
   ]
  },
  {
   "cell_type": "code",
   "execution_count": 2,
   "id": "ff29c8e3",
   "metadata": {},
   "outputs": [
    {
     "name": "stdout",
     "output_type": "stream",
     "text": [
      "llm created\n"
     ]
    }
   ],
   "source": [
    "llm = nakliLLM()"
   ]
  },
  {
   "cell_type": "code",
   "execution_count": 3,
   "id": "379b81ab",
   "metadata": {},
   "outputs": [
    {
     "data": {
      "text/plain": [
       "{'response': 'delhi is the capital of india'}"
      ]
     },
     "execution_count": 3,
     "metadata": {},
     "output_type": "execute_result"
    }
   ],
   "source": [
    "llm.predict(\"capital of india\")"
   ]
  },
  {
   "cell_type": "code",
   "execution_count": 4,
   "id": "e6e56d1d",
   "metadata": {},
   "outputs": [],
   "source": [
    "class nakliPromptTemplate:\n",
    "    def __init__(self,template,input_variable):\n",
    "        self.template = template\n",
    "        self.input_variable= input_variable\n",
    "\n",
    "    def format(self,input_dict):\n",
    "        return self.template.format(**input_dict)"
   ]
  },
  {
   "cell_type": "code",
   "execution_count": 7,
   "id": "c3966e98",
   "metadata": {},
   "outputs": [],
   "source": [
    "template = nakliPromptTemplate(\n",
    "    template='write a {length} poem about the {topic}',\n",
    "    input_variable=['topic','length']\n",
    ")"
   ]
  },
  {
   "cell_type": "code",
   "execution_count": 10,
   "id": "600625cf",
   "metadata": {},
   "outputs": [],
   "source": [
    "prompt = template.format({'topic':'india','length':'short'})"
   ]
  },
  {
   "cell_type": "code",
   "execution_count": 11,
   "id": "e82fd06d",
   "metadata": {},
   "outputs": [
    {
     "name": "stdout",
     "output_type": "stream",
     "text": [
      "llm created\n"
     ]
    }
   ],
   "source": [
    "llm = nakliLLM()"
   ]
  },
  {
   "cell_type": "code",
   "execution_count": 12,
   "id": "ca25a24a",
   "metadata": {},
   "outputs": [
    {
     "data": {
      "text/plain": [
       "{'response': 'ipl is a cricket league'}"
      ]
     },
     "execution_count": 12,
     "metadata": {},
     "output_type": "execute_result"
    }
   ],
   "source": [
    "llm.predict(prompt)"
   ]
  },
  {
   "cell_type": "code",
   "execution_count": 13,
   "id": "200e526f",
   "metadata": {},
   "outputs": [],
   "source": [
    "class nakliLLMChain:\n",
    "    def __init__(self,prompt,llm):\n",
    "        self.llm= llm\n",
    "        self.prompt = prompt\n",
    "\n",
    "    def run(self,input_dict):\n",
    "        final_prompt = self.prompt.format(input_dict)\n",
    "        result = self.llm.predict(final_prompt)\n",
    "        return result['response']"
   ]
  },
  {
   "cell_type": "code",
   "execution_count": 15,
   "id": "1fccd9d5",
   "metadata": {},
   "outputs": [
    {
     "data": {
      "text/plain": [
       "'ai stand for artificial inteligence'"
      ]
     },
     "execution_count": 15,
     "metadata": {},
     "output_type": "execute_result"
    }
   ],
   "source": [
    "chain = nakliLLMChain(prompt=prompt,llm=llm)\n",
    "chain.run({'length':'long','topic':'india'})"
   ]
  },
  {
   "cell_type": "code",
   "execution_count": 16,
   "id": "54717009",
   "metadata": {},
   "outputs": [],
   "source": [
    "# these are not flexible to make workflow"
   ]
  }
 ],
 "metadata": {
  "kernelspec": {
   "display_name": "Python 3",
   "language": "python",
   "name": "python3"
  },
  "language_info": {
   "codemirror_mode": {
    "name": "ipython",
    "version": 3
   },
   "file_extension": ".py",
   "mimetype": "text/x-python",
   "name": "python",
   "nbconvert_exporter": "python",
   "pygments_lexer": "ipython3",
   "version": "3.11.0"
  }
 },
 "nbformat": 4,
 "nbformat_minor": 5
}
