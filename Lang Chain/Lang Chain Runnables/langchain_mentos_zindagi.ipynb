{
 "cells": [
  {
   "cell_type": "code",
   "execution_count": 6,
   "id": "40b9a2b5",
   "metadata": {},
   "outputs": [],
   "source": [
    "from abc import ABC, abstractmethod"
   ]
  },
  {
   "cell_type": "code",
   "execution_count": 7,
   "id": "a27a68bd",
   "metadata": {},
   "outputs": [],
   "source": [
    "class Runnable(ABC):\n",
    "    def invoke(input_data):\n",
    "        pass"
   ]
  },
  {
   "cell_type": "code",
   "execution_count": 8,
   "id": "d11ba152",
   "metadata": {},
   "outputs": [],
   "source": [
    "import random\n",
    "class nakliLLM(Runnable):\n",
    "    def __init__(self):\n",
    "        print(\"llm created\")\n",
    "\n",
    "    def invoke(self,prompt):\n",
    "        response_list = [\n",
    "            'delhi is the capital of india',\n",
    "            'ipl is a cricket league',\n",
    "            'ai stand for artificial inteligence'\n",
    "        ]\n",
    "        return {'response':random.choice(response_list)}\n",
    "    \n",
    "    def predict(self,prompt):\n",
    "        response_list = [\n",
    "            'delhi is the capital of india',\n",
    "            'ipl is a cricket league',\n",
    "            'ai stand for artificial inteligence'\n",
    "        ]\n",
    "        print(\"this method is debricated in future so avoid it instead use invoke fn\")\n",
    "        return {'response':random.choice(response_list)}"
   ]
  },
  {
   "cell_type": "code",
   "execution_count": 10,
   "metadata": {},
   "outputs": [],
   "source": [
    "class nakliPromptTemplate(Runnable):\n",
    "    def __init__(self,template,input_variable):\n",
    "        self.template = template\n",
    "        self.input_variable= input_variable\n",
    "\n",
    "    def invoke(self,input_dict):\n",
    "        return self.template.format(**input_dict)\n",
    "    \n",
    "    def format(self,input_dict):\n",
    "        return self.template.format(**input_dict)"
   ]
  },
  {
   "cell_type": "code",
   "execution_count": 23,
   "id": "f724d63a",
   "metadata": {},
   "outputs": [],
   "source": [
    "class nakliStrOutputParser(Runnable):\n",
    "    def __init__(self):\n",
    "        pass\n",
    "    def invoke(self,input_data):\n",
    "        return input_data['response']"
   ]
  },
  {
   "cell_type": "code",
   "execution_count": 24,
   "id": "df93c271",
   "metadata": {},
   "outputs": [],
   "source": [
    "class RunnableConnector(Runnable):\n",
    "    def __init__(self,runnable_list):\n",
    "        self.runnable_list = runnable_list\n",
    "\n",
    "    def invoke(self,input_data):\n",
    "        for runnable in self.runnable_list:\n",
    "            input_data = runnable.invoke(input_data)\n",
    "        return input_data"
   ]
  },
  {
   "cell_type": "code",
   "execution_count": 25,
   "id": "d2440849",
   "metadata": {},
   "outputs": [],
   "source": [
    "template = nakliPromptTemplate(\n",
    "    template='write a {length} poem about the {topic}',\n",
    "    input_variable=['topic','length']\n",
    ")"
   ]
  },
  {
   "cell_type": "code",
   "execution_count": 26,
   "id": "bd04cf6d",
   "metadata": {},
   "outputs": [
    {
     "name": "stdout",
     "output_type": "stream",
     "text": [
      "llm created\n"
     ]
    }
   ],
   "source": [
    "llm = nakliLLM()"
   ]
  },
  {
   "cell_type": "code",
   "execution_count": 29,
   "id": "fdfe39b3",
   "metadata": {},
   "outputs": [],
   "source": [
    "parser = nakliStrOutputParser()"
   ]
  },
  {
   "cell_type": "code",
   "execution_count": 30,
   "metadata": {},
   "outputs": [],
   "source": [
    "chain = RunnableConnector([template,llm,parser])"
   ]
  },
  {
   "cell_type": "code",
   "execution_count": 31,
   "id": "49051cc8",
   "metadata": {},
   "outputs": [
    {
     "data": {
      "text/plain": [
       "'ai stand for artificial inteligence'"
      ]
     },
     "execution_count": 31,
     "metadata": {},
     "output_type": "execute_result"
    }
   ],
   "source": [
    "chain.invoke({'length':'long','topic':'india'})"
   ]
  },
  {
   "cell_type": "code",
   "execution_count": null,
   "metadata": {},
   "outputs": [],
   "source": []
  },
  {
   "cell_type": "code",
   "execution_count": null,
   "id": "d8198756",
   "metadata": {},
   "outputs": [],
   "source": []
  }
 ],
 "metadata": {
  "kernelspec": {
   "display_name": "Python 3",
   "language": "python",
   "name": "python3"
  },
  "language_info": {
   "codemirror_mode": {
    "name": "ipython",
    "version": 3
   },
   "file_extension": ".py",
   "mimetype": "text/x-python",
   "name": "python",
   "nbconvert_exporter": "python",
   "pygments_lexer": "ipython3",
   "version": "3.11.0"
  }
 },
 "nbformat": 4,
 "nbformat_minor": 5
}
