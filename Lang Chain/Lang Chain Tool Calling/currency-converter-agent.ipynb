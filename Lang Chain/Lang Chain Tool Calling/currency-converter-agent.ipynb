{
 "cells": [
  {
   "cell_type": "code",
   "execution_count": 88,
   "id": "477a6aad",
   "metadata": {},
   "outputs": [],
   "source": [
    "from langchain_huggingface import HuggingFaceEndpoint, ChatHuggingFace\n",
    "from langchain_core.tools import tool\n",
    "from langchain_core.messages import HumanMessage\n",
    "import requests\n",
    "from langchain_openai import ChatOpenAI"
   ]
  },
  {
   "cell_type": "code",
   "execution_count": null,
   "id": "ffacc86b",
   "metadata": {},
   "outputs": [],
   "source": [
    "api_key = ''"
   ]
  },
  {
   "cell_type": "code",
   "execution_count": 83,
   "metadata": {},
   "outputs": [],
   "source": [
    "from langchain_core.tools import InjectedToolArg\n",
    "from typing import Annotated\n",
    "\n",
    "@tool\n",
    "def get_conversion_factor(base_currency: str, target_currency:str)->float:\n",
    "    '''this fn fetches the currency conversion factor b/w a given base currency and a target currency'''\n",
    "    url = f'https://v6.exchangerate-api.com/v6/2c5f61cd8017b794f948ae40/pair/{base_currency}/{target_currency}'\n",
    "    response = requests.get(url)\n",
    "    return response.json()\n",
    "\n",
    "@tool\n",
    "def convert(base_currency:int,conversion_rate:Annotated[float,InjectedToolArg])->float: #llm don ono try to fill this argument i am the developer will inject this value after ruinning earlier tools\n",
    "    '''given a currency conversion rate this fn calculate the target currency value from the given base_currency'''\n",
    "    return base_currency*conversion_rate"
   ]
  },
  {
   "cell_type": "code",
   "execution_count": 84,
   "id": "65bd3471",
   "metadata": {},
   "outputs": [
    {
     "data": {
      "text/plain": [
       "{'result': 'success',\n",
       " 'documentation': 'https://www.exchangerate-api.com/docs',\n",
       " 'terms_of_use': 'https://www.exchangerate-api.com/terms',\n",
       " 'time_last_update_unix': 1748044801,\n",
       " 'time_last_update_utc': 'Sat, 24 May 2025 00:00:01 +0000',\n",
       " 'time_next_update_unix': 1748131201,\n",
       " 'time_next_update_utc': 'Sun, 25 May 2025 00:00:01 +0000',\n",
       " 'base_code': 'USD',\n",
       " 'target_code': 'INR',\n",
       " 'conversion_rate': 85.4133}"
      ]
     },
     "execution_count": 84,
     "metadata": {},
     "output_type": "execute_result"
    }
   ],
   "source": [
    "get_conversion_factor.invoke({'base_currency':'USD','target_currency':'INR'})"
   ]
  },
  {
   "cell_type": "code",
   "execution_count": null,
   "id": "d7da8091",
   "metadata": {},
   "outputs": [],
   "source": [
    "model = ChatOpenAI(\n",
    "    base_url=\"https://openrouter.ai/api/v1\",\n",
    "    model=\"openai/gpt-3.5-turbo\",\n",
    "    api_key=api_key\n",
    ")"
   ]
  },
  {
   "cell_type": "code",
   "execution_count": 94,
   "metadata": {},
   "outputs": [],
   "source": [
    "model_with_tool = model.bind_tools([get_conversion_factor,convert])"
   ]
  },
  {
   "cell_type": "code",
   "execution_count": 95,
   "id": "8fd69f33",
   "metadata": {},
   "outputs": [],
   "source": [
    "messages = [HumanMessage('what is the conversion factor between USD and INR, and based on that can You convert 10 usd to inr')]"
   ]
  },
  {
   "cell_type": "code",
   "execution_count": 96,
   "metadata": {},
   "outputs": [
    {
     "data": {
      "text/plain": [
       "[HumanMessage(content='what is the conversion factor between USD and INR, and based on that can You convert 10 usd to inr', additional_kwargs={}, response_metadata={})]"
      ]
     },
     "execution_count": 96,
     "metadata": {},
     "output_type": "execute_result"
    }
   ],
   "source": [
    "messages"
   ]
  },
  {
   "cell_type": "code",
   "execution_count": 97,
   "metadata": {},
   "outputs": [],
   "source": [
    "ai_message = model_with_tool.invoke(messages)"
   ]
  },
  {
   "cell_type": "code",
   "execution_count": 110,
   "id": "8e5e89d7",
   "metadata": {},
   "outputs": [],
   "source": [
    "messages.append(ai_message)"
   ]
  },
  {
   "cell_type": "code",
   "execution_count": 98,
   "id": "21de683f",
   "metadata": {},
   "outputs": [
    {
     "data": {
      "text/plain": [
       "[{'name': 'get_conversion_factor',\n",
       "  'args': {'base_currency': 'USD', 'target_currency': 'INR'},\n",
       "  'id': 'call_jREiZ9UeLVQdZDzx29kuoiFa',\n",
       "  'type': 'tool_call'},\n",
       " {'name': 'convert',\n",
       "  'args': {'base_currency': 10},\n",
       "  'id': 'call_feVePfvRJ8g4KZ2hXGGYyz2R',\n",
       "  'type': 'tool_call'}]"
      ]
     },
     "execution_count": 98,
     "metadata": {},
     "output_type": "execute_result"
    }
   ],
   "source": [
    "ai_message.tool_calls"
   ]
  },
  {
   "cell_type": "code",
   "execution_count": null,
   "id": "082213b0",
   "metadata": {},
   "outputs": [
    {
     "name": "stdout",
     "output_type": "stream",
     "text": [
      "content='{\"result\": \"success\", \"documentation\": \"https://www.exchangerate-api.com/docs\", \"terms_of_use\": \"https://www.exchangerate-api.com/terms\", \"time_last_update_unix\": 1748044801, \"time_last_update_utc\": \"Sat, 24 May 2025 00:00:01 +0000\", \"time_next_update_unix\": 1748131201, \"time_next_update_utc\": \"Sun, 25 May 2025 00:00:01 +0000\", \"base_code\": \"USD\", \"target_code\": \"INR\", \"conversion_rate\": 85.4133}' name='get_conversion_factor' tool_call_id='call_jREiZ9UeLVQdZDzx29kuoiFa'\n"
     ]
    }
   ],
   "source": [
    "import json\n",
    "for tool_call in ai_message.tool_calls:\n",
    "    # execute the 1st tool and get the value of conv rate\n",
    "    if tool_call['name'] == 'get_conversion_factor':\n",
    "        tool_msg1 = get_conversion_factor.invoke(tool_call)\n",
    "        # fetch conversion rate\n",
    "        parser = json.loads(tool_msg1.content)\n",
    "        conversion_rate = parser['conversion_rate']\n",
    "        # append msg to msg list\n",
    "        messages.append(tool_msg1)\n",
    "    # execute the 2nd with conversion rate from tool 1\n",
    "    if tool_call['name'] == 'convert':\n",
    "        # fetch the current args\n",
    "        tool_call['args']['conversion_rate'] = conversion_rate\n",
    "        tool_msg2 = convert.invoke(tool_call)\n",
    "        messages.append(tool_msg2)"
   ]
  },
  {
   "cell_type": "code",
   "execution_count": 114,
   "id": "12f2f2c0",
   "metadata": {},
   "outputs": [
    {
     "data": {
      "text/plain": [
       "[HumanMessage(content='what is the conversion factor between USD and INR, and based on that can You convert 10 usd to inr', additional_kwargs={}, response_metadata={}),\n",
       " AIMessage(content='', additional_kwargs={'tool_calls': [{'id': 'call_jREiZ9UeLVQdZDzx29kuoiFa', 'function': {'arguments': '{\"base_currency\": \"USD\", \"target_currency\": \"INR\"}', 'name': 'get_conversion_factor'}, 'type': 'function', 'index': 0}, {'id': 'call_feVePfvRJ8g4KZ2hXGGYyz2R', 'function': {'arguments': '{\"base_currency\": 10}', 'name': 'convert'}, 'type': 'function', 'index': 1}], 'refusal': None}, response_metadata={'token_usage': {'completion_tokens': 51, 'prompt_tokens': 122, 'total_tokens': 173, 'completion_tokens_details': {'accepted_prediction_tokens': None, 'audio_tokens': None, 'reasoning_tokens': 0, 'rejected_prediction_tokens': None}, 'prompt_tokens_details': {'audio_tokens': None, 'cached_tokens': 0}}, 'model_name': 'openai/gpt-3.5-turbo', 'system_fingerprint': None, 'id': 'gen-1748075044-rZjCqBXdF3fy07r6HFFI', 'service_tier': None, 'finish_reason': 'tool_calls', 'logprobs': None}, id='run--ff7d657c-8c0e-447e-98e3-fc81ca22fd91-0', tool_calls=[{'name': 'get_conversion_factor', 'args': {'base_currency': 'USD', 'target_currency': 'INR'}, 'id': 'call_jREiZ9UeLVQdZDzx29kuoiFa', 'type': 'tool_call'}, {'name': 'convert', 'args': {'base_currency': 10, 'conversion_rate': 85.4133}, 'id': 'call_feVePfvRJ8g4KZ2hXGGYyz2R', 'type': 'tool_call'}], usage_metadata={'input_tokens': 122, 'output_tokens': 51, 'total_tokens': 173, 'input_token_details': {'cache_read': 0}, 'output_token_details': {'reasoning': 0}}),\n",
       " ToolMessage(content='{\"result\": \"success\", \"documentation\": \"https://www.exchangerate-api.com/docs\", \"terms_of_use\": \"https://www.exchangerate-api.com/terms\", \"time_last_update_unix\": 1748044801, \"time_last_update_utc\": \"Sat, 24 May 2025 00:00:01 +0000\", \"time_next_update_unix\": 1748131201, \"time_next_update_utc\": \"Sun, 25 May 2025 00:00:01 +0000\", \"base_code\": \"USD\", \"target_code\": \"INR\", \"conversion_rate\": 85.4133}', name='get_conversion_factor', tool_call_id='call_jREiZ9UeLVQdZDzx29kuoiFa'),\n",
       " ToolMessage(content='854.133', name='convert', tool_call_id='call_feVePfvRJ8g4KZ2hXGGYyz2R')]"
      ]
     },
     "execution_count": 114,
     "metadata": {},
     "output_type": "execute_result"
    }
   ],
   "source": [
    "messages"
   ]
  },
  {
   "cell_type": "code",
   "execution_count": 115,
   "id": "d0843987",
   "metadata": {},
   "outputs": [],
   "source": [
    "result = model_with_tool.invoke(messages)"
   ]
  },
  {
   "cell_type": "code",
   "execution_count": 116,
   "id": "cf3d7d58",
   "metadata": {},
   "outputs": [
    {
     "data": {
      "text/plain": [
       "'The conversion factor between USD and INR is 85.4133. \\n\\nBased on that, 10 USD is equivalent to 854.133 INR.'"
      ]
     },
     "execution_count": 116,
     "metadata": {},
     "output_type": "execute_result"
    }
   ],
   "source": [
    "result.content"
   ]
  }
 ],
 "metadata": {
  "kernelspec": {
   "display_name": "Python 3",
   "language": "python",
   "name": "python3"
  },
  "language_info": {
   "codemirror_mode": {
    "name": "ipython",
    "version": 3
   },
   "file_extension": ".py",
   "mimetype": "text/x-python",
   "name": "python",
   "nbconvert_exporter": "python",
   "pygments_lexer": "ipython3",
   "version": "3.11.0"
  }
 },
 "nbformat": 4,
 "nbformat_minor": 5
}
