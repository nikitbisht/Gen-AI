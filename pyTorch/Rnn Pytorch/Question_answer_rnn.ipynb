{
  "nbformat": 4,
  "nbformat_minor": 0,
  "metadata": {
    "colab": {
      "provenance": []
    },
    "kernelspec": {
      "name": "python3",
      "display_name": "Python 3"
    },
    "language_info": {
      "name": "python"
    }
  },
  "cells": [
    {
      "cell_type": "code",
      "execution_count": 1,
      "metadata": {
        "id": "KpykSzr_YYJX"
      },
      "outputs": [],
      "source": [
        "import pandas as pd\n",
        "import numpy as np"
      ]
    },
    {
      "cell_type": "code",
      "source": [
        "df = pd.read_csv('100_Unique_QA_Dataset.csv')"
      ],
      "metadata": {
        "id": "rfHWHTivYi2U"
      },
      "execution_count": 2,
      "outputs": []
    },
    {
      "cell_type": "code",
      "source": [
        "df.head()"
      ],
      "metadata": {
        "colab": {
          "base_uri": "https://localhost:8080/",
          "height": 206
        },
        "id": "P7_3zzKvYooN",
        "outputId": "a67ed22e-fc5c-4adc-b317-12cfb5918bf9"
      },
      "execution_count": 3,
      "outputs": [
        {
          "output_type": "execute_result",
          "data": {
            "text/plain": [
              "                                          question      answer\n",
              "0                   What is the capital of France?       Paris\n",
              "1                  What is the capital of Germany?      Berlin\n",
              "2               Who wrote 'To Kill a Mockingbird'?  Harper-Lee\n",
              "3  What is the largest planet in our solar system?     Jupiter\n",
              "4   What is the boiling point of water in Celsius?         100"
            ],
            "text/html": [
              "\n",
              "  <div id=\"df-f4f4ac57-74d3-4705-99d8-af7a17e6b5d0\" class=\"colab-df-container\">\n",
              "    <div>\n",
              "<style scoped>\n",
              "    .dataframe tbody tr th:only-of-type {\n",
              "        vertical-align: middle;\n",
              "    }\n",
              "\n",
              "    .dataframe tbody tr th {\n",
              "        vertical-align: top;\n",
              "    }\n",
              "\n",
              "    .dataframe thead th {\n",
              "        text-align: right;\n",
              "    }\n",
              "</style>\n",
              "<table border=\"1\" class=\"dataframe\">\n",
              "  <thead>\n",
              "    <tr style=\"text-align: right;\">\n",
              "      <th></th>\n",
              "      <th>question</th>\n",
              "      <th>answer</th>\n",
              "    </tr>\n",
              "  </thead>\n",
              "  <tbody>\n",
              "    <tr>\n",
              "      <th>0</th>\n",
              "      <td>What is the capital of France?</td>\n",
              "      <td>Paris</td>\n",
              "    </tr>\n",
              "    <tr>\n",
              "      <th>1</th>\n",
              "      <td>What is the capital of Germany?</td>\n",
              "      <td>Berlin</td>\n",
              "    </tr>\n",
              "    <tr>\n",
              "      <th>2</th>\n",
              "      <td>Who wrote 'To Kill a Mockingbird'?</td>\n",
              "      <td>Harper-Lee</td>\n",
              "    </tr>\n",
              "    <tr>\n",
              "      <th>3</th>\n",
              "      <td>What is the largest planet in our solar system?</td>\n",
              "      <td>Jupiter</td>\n",
              "    </tr>\n",
              "    <tr>\n",
              "      <th>4</th>\n",
              "      <td>What is the boiling point of water in Celsius?</td>\n",
              "      <td>100</td>\n",
              "    </tr>\n",
              "  </tbody>\n",
              "</table>\n",
              "</div>\n",
              "    <div class=\"colab-df-buttons\">\n",
              "\n",
              "  <div class=\"colab-df-container\">\n",
              "    <button class=\"colab-df-convert\" onclick=\"convertToInteractive('df-f4f4ac57-74d3-4705-99d8-af7a17e6b5d0')\"\n",
              "            title=\"Convert this dataframe to an interactive table.\"\n",
              "            style=\"display:none;\">\n",
              "\n",
              "  <svg xmlns=\"http://www.w3.org/2000/svg\" height=\"24px\" viewBox=\"0 -960 960 960\">\n",
              "    <path d=\"M120-120v-720h720v720H120Zm60-500h600v-160H180v160Zm220 220h160v-160H400v160Zm0 220h160v-160H400v160ZM180-400h160v-160H180v160Zm440 0h160v-160H620v160ZM180-180h160v-160H180v160Zm440 0h160v-160H620v160Z\"/>\n",
              "  </svg>\n",
              "    </button>\n",
              "\n",
              "  <style>\n",
              "    .colab-df-container {\n",
              "      display:flex;\n",
              "      gap: 12px;\n",
              "    }\n",
              "\n",
              "    .colab-df-convert {\n",
              "      background-color: #E8F0FE;\n",
              "      border: none;\n",
              "      border-radius: 50%;\n",
              "      cursor: pointer;\n",
              "      display: none;\n",
              "      fill: #1967D2;\n",
              "      height: 32px;\n",
              "      padding: 0 0 0 0;\n",
              "      width: 32px;\n",
              "    }\n",
              "\n",
              "    .colab-df-convert:hover {\n",
              "      background-color: #E2EBFA;\n",
              "      box-shadow: 0px 1px 2px rgba(60, 64, 67, 0.3), 0px 1px 3px 1px rgba(60, 64, 67, 0.15);\n",
              "      fill: #174EA6;\n",
              "    }\n",
              "\n",
              "    .colab-df-buttons div {\n",
              "      margin-bottom: 4px;\n",
              "    }\n",
              "\n",
              "    [theme=dark] .colab-df-convert {\n",
              "      background-color: #3B4455;\n",
              "      fill: #D2E3FC;\n",
              "    }\n",
              "\n",
              "    [theme=dark] .colab-df-convert:hover {\n",
              "      background-color: #434B5C;\n",
              "      box-shadow: 0px 1px 3px 1px rgba(0, 0, 0, 0.15);\n",
              "      filter: drop-shadow(0px 1px 2px rgba(0, 0, 0, 0.3));\n",
              "      fill: #FFFFFF;\n",
              "    }\n",
              "  </style>\n",
              "\n",
              "    <script>\n",
              "      const buttonEl =\n",
              "        document.querySelector('#df-f4f4ac57-74d3-4705-99d8-af7a17e6b5d0 button.colab-df-convert');\n",
              "      buttonEl.style.display =\n",
              "        google.colab.kernel.accessAllowed ? 'block' : 'none';\n",
              "\n",
              "      async function convertToInteractive(key) {\n",
              "        const element = document.querySelector('#df-f4f4ac57-74d3-4705-99d8-af7a17e6b5d0');\n",
              "        const dataTable =\n",
              "          await google.colab.kernel.invokeFunction('convertToInteractive',\n",
              "                                                    [key], {});\n",
              "        if (!dataTable) return;\n",
              "\n",
              "        const docLinkHtml = 'Like what you see? Visit the ' +\n",
              "          '<a target=\"_blank\" href=https://colab.research.google.com/notebooks/data_table.ipynb>data table notebook</a>'\n",
              "          + ' to learn more about interactive tables.';\n",
              "        element.innerHTML = '';\n",
              "        dataTable['output_type'] = 'display_data';\n",
              "        await google.colab.output.renderOutput(dataTable, element);\n",
              "        const docLink = document.createElement('div');\n",
              "        docLink.innerHTML = docLinkHtml;\n",
              "        element.appendChild(docLink);\n",
              "      }\n",
              "    </script>\n",
              "  </div>\n",
              "\n",
              "\n",
              "<div id=\"df-3f6bb1ee-bba2-4ea1-9795-d2a0c8771613\">\n",
              "  <button class=\"colab-df-quickchart\" onclick=\"quickchart('df-3f6bb1ee-bba2-4ea1-9795-d2a0c8771613')\"\n",
              "            title=\"Suggest charts\"\n",
              "            style=\"display:none;\">\n",
              "\n",
              "<svg xmlns=\"http://www.w3.org/2000/svg\" height=\"24px\"viewBox=\"0 0 24 24\"\n",
              "     width=\"24px\">\n",
              "    <g>\n",
              "        <path d=\"M19 3H5c-1.1 0-2 .9-2 2v14c0 1.1.9 2 2 2h14c1.1 0 2-.9 2-2V5c0-1.1-.9-2-2-2zM9 17H7v-7h2v7zm4 0h-2V7h2v10zm4 0h-2v-4h2v4z\"/>\n",
              "    </g>\n",
              "</svg>\n",
              "  </button>\n",
              "\n",
              "<style>\n",
              "  .colab-df-quickchart {\n",
              "      --bg-color: #E8F0FE;\n",
              "      --fill-color: #1967D2;\n",
              "      --hover-bg-color: #E2EBFA;\n",
              "      --hover-fill-color: #174EA6;\n",
              "      --disabled-fill-color: #AAA;\n",
              "      --disabled-bg-color: #DDD;\n",
              "  }\n",
              "\n",
              "  [theme=dark] .colab-df-quickchart {\n",
              "      --bg-color: #3B4455;\n",
              "      --fill-color: #D2E3FC;\n",
              "      --hover-bg-color: #434B5C;\n",
              "      --hover-fill-color: #FFFFFF;\n",
              "      --disabled-bg-color: #3B4455;\n",
              "      --disabled-fill-color: #666;\n",
              "  }\n",
              "\n",
              "  .colab-df-quickchart {\n",
              "    background-color: var(--bg-color);\n",
              "    border: none;\n",
              "    border-radius: 50%;\n",
              "    cursor: pointer;\n",
              "    display: none;\n",
              "    fill: var(--fill-color);\n",
              "    height: 32px;\n",
              "    padding: 0;\n",
              "    width: 32px;\n",
              "  }\n",
              "\n",
              "  .colab-df-quickchart:hover {\n",
              "    background-color: var(--hover-bg-color);\n",
              "    box-shadow: 0 1px 2px rgba(60, 64, 67, 0.3), 0 1px 3px 1px rgba(60, 64, 67, 0.15);\n",
              "    fill: var(--button-hover-fill-color);\n",
              "  }\n",
              "\n",
              "  .colab-df-quickchart-complete:disabled,\n",
              "  .colab-df-quickchart-complete:disabled:hover {\n",
              "    background-color: var(--disabled-bg-color);\n",
              "    fill: var(--disabled-fill-color);\n",
              "    box-shadow: none;\n",
              "  }\n",
              "\n",
              "  .colab-df-spinner {\n",
              "    border: 2px solid var(--fill-color);\n",
              "    border-color: transparent;\n",
              "    border-bottom-color: var(--fill-color);\n",
              "    animation:\n",
              "      spin 1s steps(1) infinite;\n",
              "  }\n",
              "\n",
              "  @keyframes spin {\n",
              "    0% {\n",
              "      border-color: transparent;\n",
              "      border-bottom-color: var(--fill-color);\n",
              "      border-left-color: var(--fill-color);\n",
              "    }\n",
              "    20% {\n",
              "      border-color: transparent;\n",
              "      border-left-color: var(--fill-color);\n",
              "      border-top-color: var(--fill-color);\n",
              "    }\n",
              "    30% {\n",
              "      border-color: transparent;\n",
              "      border-left-color: var(--fill-color);\n",
              "      border-top-color: var(--fill-color);\n",
              "      border-right-color: var(--fill-color);\n",
              "    }\n",
              "    40% {\n",
              "      border-color: transparent;\n",
              "      border-right-color: var(--fill-color);\n",
              "      border-top-color: var(--fill-color);\n",
              "    }\n",
              "    60% {\n",
              "      border-color: transparent;\n",
              "      border-right-color: var(--fill-color);\n",
              "    }\n",
              "    80% {\n",
              "      border-color: transparent;\n",
              "      border-right-color: var(--fill-color);\n",
              "      border-bottom-color: var(--fill-color);\n",
              "    }\n",
              "    90% {\n",
              "      border-color: transparent;\n",
              "      border-bottom-color: var(--fill-color);\n",
              "    }\n",
              "  }\n",
              "</style>\n",
              "\n",
              "  <script>\n",
              "    async function quickchart(key) {\n",
              "      const quickchartButtonEl =\n",
              "        document.querySelector('#' + key + ' button');\n",
              "      quickchartButtonEl.disabled = true;  // To prevent multiple clicks.\n",
              "      quickchartButtonEl.classList.add('colab-df-spinner');\n",
              "      try {\n",
              "        const charts = await google.colab.kernel.invokeFunction(\n",
              "            'suggestCharts', [key], {});\n",
              "      } catch (error) {\n",
              "        console.error('Error during call to suggestCharts:', error);\n",
              "      }\n",
              "      quickchartButtonEl.classList.remove('colab-df-spinner');\n",
              "      quickchartButtonEl.classList.add('colab-df-quickchart-complete');\n",
              "    }\n",
              "    (() => {\n",
              "      let quickchartButtonEl =\n",
              "        document.querySelector('#df-3f6bb1ee-bba2-4ea1-9795-d2a0c8771613 button');\n",
              "      quickchartButtonEl.style.display =\n",
              "        google.colab.kernel.accessAllowed ? 'block' : 'none';\n",
              "    })();\n",
              "  </script>\n",
              "</div>\n",
              "\n",
              "    </div>\n",
              "  </div>\n"
            ],
            "application/vnd.google.colaboratory.intrinsic+json": {
              "type": "dataframe",
              "variable_name": "df",
              "summary": "{\n  \"name\": \"df\",\n  \"rows\": 90,\n  \"fields\": [\n    {\n      \"column\": \"question\",\n      \"properties\": {\n        \"dtype\": \"string\",\n        \"num_unique_values\": 90,\n        \"samples\": [\n          \"What is the currency of China?\",\n          \"What is the capital of Australia?\",\n          \"Who discovered electricity?\"\n        ],\n        \"semantic_type\": \"\",\n        \"description\": \"\"\n      }\n    },\n    {\n      \"column\": \"answer\",\n      \"properties\": {\n        \"dtype\": \"string\",\n        \"num_unique_values\": 85,\n        \"samples\": [\n          \"ChristopherColumbus\",\n          \"Paris\",\n          \"Christmas\"\n        ],\n        \"semantic_type\": \"\",\n        \"description\": \"\"\n      }\n    }\n  ]\n}"
            }
          },
          "metadata": {},
          "execution_count": 3
        }
      ]
    },
    {
      "cell_type": "code",
      "source": [
        "# tokenize\n",
        "def tokenize(text):\n",
        "  text = text.lower()\n",
        "  text = text.replace('?',\"\")\n",
        "  text = text.replace(\"'\",\"\")\n",
        "  return text.split()"
      ],
      "metadata": {
        "id": "Bk-a6ONTYpPl"
      },
      "execution_count": 13,
      "outputs": []
    },
    {
      "cell_type": "code",
      "source": [
        "tokenize(df['question'][1])"
      ],
      "metadata": {
        "colab": {
          "base_uri": "https://localhost:8080/"
        },
        "id": "snVW2xGHZAVG",
        "outputId": "bc1b8075-99db-4ccd-e1d1-62134d509543"
      },
      "execution_count": 14,
      "outputs": [
        {
          "output_type": "execute_result",
          "data": {
            "text/plain": [
              "['what', 'is', 'the', 'capital', 'of', 'germany']"
            ]
          },
          "metadata": {},
          "execution_count": 14
        }
      ]
    },
    {
      "cell_type": "code",
      "source": [
        "#vocabulary\n",
        "vocab = {'<UNK>':0}\n",
        "\n"
      ],
      "metadata": {
        "id": "ke5TeL1RYyht"
      },
      "execution_count": 15,
      "outputs": []
    },
    {
      "cell_type": "code",
      "source": [
        "def build_vocab(row):\n",
        "  # print(row['question'],row['answer'])\n",
        "  tokenized_question = tokenize(row['question'])\n",
        "  tokenized_answer = tokenize(row['answer'])\n",
        "  # print(tokenized_question,tokenized_answer)\n",
        "  merge_token = tokenized_question + tokenized_answer\n",
        "  # print(merge_token)\n",
        "  for token in merge_token:\n",
        "    if token not in vocab:\n",
        "      vocab[token] = len(vocab)\n"
      ],
      "metadata": {
        "id": "Fer2uEUjaAIR"
      },
      "execution_count": 25,
      "outputs": []
    },
    {
      "cell_type": "code",
      "source": [
        "df.apply(build_vocab,axis=1)"
      ],
      "metadata": {
        "colab": {
          "base_uri": "https://localhost:8080/",
          "height": 458
        },
        "id": "pDH-h62IaAFF",
        "outputId": "309e90d7-6507-4a75-877f-c7c7d76d8eec"
      },
      "execution_count": 26,
      "outputs": [
        {
          "output_type": "execute_result",
          "data": {
            "text/plain": [
              "0     None\n",
              "1     None\n",
              "2     None\n",
              "3     None\n",
              "4     None\n",
              "      ... \n",
              "85    None\n",
              "86    None\n",
              "87    None\n",
              "88    None\n",
              "89    None\n",
              "Length: 90, dtype: object"
            ],
            "text/html": [
              "<div>\n",
              "<style scoped>\n",
              "    .dataframe tbody tr th:only-of-type {\n",
              "        vertical-align: middle;\n",
              "    }\n",
              "\n",
              "    .dataframe tbody tr th {\n",
              "        vertical-align: top;\n",
              "    }\n",
              "\n",
              "    .dataframe thead th {\n",
              "        text-align: right;\n",
              "    }\n",
              "</style>\n",
              "<table border=\"1\" class=\"dataframe\">\n",
              "  <thead>\n",
              "    <tr style=\"text-align: right;\">\n",
              "      <th></th>\n",
              "      <th>0</th>\n",
              "    </tr>\n",
              "  </thead>\n",
              "  <tbody>\n",
              "    <tr>\n",
              "      <th>0</th>\n",
              "      <td>None</td>\n",
              "    </tr>\n",
              "    <tr>\n",
              "      <th>1</th>\n",
              "      <td>None</td>\n",
              "    </tr>\n",
              "    <tr>\n",
              "      <th>2</th>\n",
              "      <td>None</td>\n",
              "    </tr>\n",
              "    <tr>\n",
              "      <th>3</th>\n",
              "      <td>None</td>\n",
              "    </tr>\n",
              "    <tr>\n",
              "      <th>4</th>\n",
              "      <td>None</td>\n",
              "    </tr>\n",
              "    <tr>\n",
              "      <th>...</th>\n",
              "      <td>...</td>\n",
              "    </tr>\n",
              "    <tr>\n",
              "      <th>85</th>\n",
              "      <td>None</td>\n",
              "    </tr>\n",
              "    <tr>\n",
              "      <th>86</th>\n",
              "      <td>None</td>\n",
              "    </tr>\n",
              "    <tr>\n",
              "      <th>87</th>\n",
              "      <td>None</td>\n",
              "    </tr>\n",
              "    <tr>\n",
              "      <th>88</th>\n",
              "      <td>None</td>\n",
              "    </tr>\n",
              "    <tr>\n",
              "      <th>89</th>\n",
              "      <td>None</td>\n",
              "    </tr>\n",
              "  </tbody>\n",
              "</table>\n",
              "<p>90 rows × 1 columns</p>\n",
              "</div><br><label><b>dtype:</b> object</label>"
            ]
          },
          "metadata": {},
          "execution_count": 26
        }
      ]
    },
    {
      "cell_type": "code",
      "source": [
        "vocab_len = len(vocab)"
      ],
      "metadata": {
        "id": "Kt_ufxn8bWJl"
      },
      "execution_count": 28,
      "outputs": []
    },
    {
      "cell_type": "code",
      "source": [
        "#convert to num index\n",
        "def text_to_index(text,vocab):\n",
        "  index_text = []\n",
        "  for token in tokenize(text):\n",
        "    if token in vocab:\n",
        "      index_text.append(vocab[token])\n",
        "    else:\n",
        "      index_text.append(vocab['<UNK>'])\n",
        "  return index_text"
      ],
      "metadata": {
        "id": "j9mMVroCY0il"
      },
      "execution_count": 30,
      "outputs": []
    },
    {
      "cell_type": "code",
      "source": [
        "text_to_index(\"what is uk\",vocab)"
      ],
      "metadata": {
        "colab": {
          "base_uri": "https://localhost:8080/"
        },
        "id": "B7OVosV_Y3J1",
        "outputId": "eb996e5a-049e-49ce-ff28-e6335df34212"
      },
      "execution_count": 33,
      "outputs": [
        {
          "output_type": "execute_result",
          "data": {
            "text/plain": [
              "[1, 2, 272]"
            ]
          },
          "metadata": {},
          "execution_count": 33
        }
      ]
    },
    {
      "cell_type": "code",
      "source": [
        "import torch\n",
        "from torch.utils.data import Dataset, DataLoader"
      ],
      "metadata": {
        "id": "3UsDwu9ychkO"
      },
      "execution_count": 34,
      "outputs": []
    },
    {
      "cell_type": "code",
      "source": [
        "class CustomDataset(Dataset):\n",
        "  def __init__(self,df,vocab):\n",
        "    self.df = df;\n",
        "    self.vocab = vocab\n",
        "\n",
        "  def __len__(self):\n",
        "    return self.df.shape[0]\n",
        "\n",
        "  def __getitem__(self,index):\n",
        "    num_question = text_to_index(self.df.iloc[index]['question'],self.vocab)\n",
        "    num_answer = text_to_index(self.df.iloc[index]['answer'],self.vocab)\n",
        "\n",
        "    return torch.tensor(num_question),torch.tensor(num_answer)"
      ],
      "metadata": {
        "id": "3HcQktEaczWm"
      },
      "execution_count": 82,
      "outputs": []
    },
    {
      "cell_type": "code",
      "source": [
        "dataset = CustomDataset(df,vocab)"
      ],
      "metadata": {
        "id": "Gnbe9wJziztY"
      },
      "execution_count": 83,
      "outputs": []
    },
    {
      "cell_type": "code",
      "source": [
        "dataloader = DataLoader(dataset,batch_size=1,shuffle=True)"
      ],
      "metadata": {
        "id": "tsuw2kKRvB8W"
      },
      "execution_count": 84,
      "outputs": []
    },
    {
      "cell_type": "code",
      "source": [
        "for question ,answer in dataloader:\n",
        "  print(question,answer)\n",
        "  break"
      ],
      "metadata": {
        "colab": {
          "base_uri": "https://localhost:8080/"
        },
        "id": "KGw0Klr5uVfM",
        "outputId": "293c5b5a-bf8c-4673-9900-85039f06738e"
      },
      "execution_count": 85,
      "outputs": [
        {
          "output_type": "stream",
          "name": "stdout",
          "text": [
            "tensor([[ 42, 318,   2,  62,  63,   3, 319,   5, 320]]) tensor([[321]])\n"
          ]
        }
      ]
    },
    {
      "cell_type": "code",
      "source": [
        "# Rnn architecture\n",
        "import torch.nn as nn"
      ],
      "metadata": {
        "id": "Z-ZL0dR8v13E"
      },
      "execution_count": 86,
      "outputs": []
    },
    {
      "cell_type": "code",
      "source": [
        "class myRnn(nn.Module):\n",
        "  def __init__(self,vocab_size):\n",
        "    super().__init__()\n",
        "    self.embedding  = nn.Embedding(vocab_size,embedding_dim=60)\n",
        "    self.rnn = nn.RNN(60,64,batch_first=True)\n",
        "    self.output = nn.Linear(64,vocab_size)\n",
        "\n",
        "  def forward(self,question):\n",
        "    embedded_question = self.embedding(question)\n",
        "    hidden,final = self.rnn(embedded_question)\n",
        "    output = self.output(final.squeeze(0))\n",
        "    return output"
      ],
      "metadata": {
        "id": "kZjCuIAawOt1"
      },
      "execution_count": 103,
      "outputs": []
    },
    {
      "cell_type": "code",
      "source": [
        "epochs = 200\n",
        "learning_rate = 0.001"
      ],
      "metadata": {
        "id": "cwngIL5sxVOm"
      },
      "execution_count": 112,
      "outputs": []
    },
    {
      "cell_type": "code",
      "source": [
        "model = myRnn(vocab_len)\n",
        "criteria = nn.CrossEntropyLoss()\n",
        "optimizer = torch.optim.Adam(model.parameters(),lr=learning_rate)"
      ],
      "metadata": {
        "id": "wGM4aUT2z3GG"
      },
      "execution_count": 113,
      "outputs": []
    },
    {
      "cell_type": "code",
      "source": [
        "#training loop\n",
        "for epoch in range(epochs):\n",
        "  total_loss = 0\n",
        "  for question,answer in dataloader:\n",
        "\n",
        "    #forwar pass\n",
        "    pred_ans = model(question)\n",
        "    # print(pred_ans.shape)\n",
        "    #loss\n",
        "    loss=criteria(pred_ans,answer[0])\n",
        "\n",
        "    #zero grad\n",
        "    optimizer.zero_grad()\n",
        "\n",
        "    #backprop\n",
        "    loss.backward()\n",
        "\n",
        "    #optimizer\n",
        "    optimizer.step()\n",
        "\n",
        "    total_loss += loss.item()\n",
        "\n",
        "  print(f\"Epoch: {epoch+1} Loss: {total_loss:4f}\")\n",
        "\n"
      ],
      "metadata": {
        "colab": {
          "base_uri": "https://localhost:8080/"
        },
        "id": "odxnxGKh0KxO",
        "outputId": "51836302-33c0-4269-dfd0-e2e9651cffd5"
      },
      "execution_count": 114,
      "outputs": [
        {
          "output_type": "stream",
          "name": "stdout",
          "text": [
            "Epoch: 1 Loss: 534.035340\n",
            "Epoch: 2 Loss: 467.092163\n",
            "Epoch: 3 Loss: 390.416706\n",
            "Epoch: 4 Loss: 321.780156\n",
            "Epoch: 5 Loss: 266.214901\n",
            "Epoch: 6 Loss: 216.532593\n",
            "Epoch: 7 Loss: 171.912926\n",
            "Epoch: 8 Loss: 133.753816\n",
            "Epoch: 9 Loss: 102.590412\n",
            "Epoch: 10 Loss: 78.203332\n",
            "Epoch: 11 Loss: 60.221056\n",
            "Epoch: 12 Loss: 47.327049\n",
            "Epoch: 13 Loss: 37.682400\n",
            "Epoch: 14 Loss: 30.862027\n",
            "Epoch: 15 Loss: 25.789618\n",
            "Epoch: 16 Loss: 21.306724\n",
            "Epoch: 17 Loss: 18.551268\n",
            "Epoch: 18 Loss: 15.906574\n",
            "Epoch: 19 Loss: 13.473808\n",
            "Epoch: 20 Loss: 12.059225\n",
            "Epoch: 21 Loss: 10.416177\n",
            "Epoch: 22 Loss: 8.983602\n",
            "Epoch: 23 Loss: 7.923484\n",
            "Epoch: 24 Loss: 7.046194\n",
            "Epoch: 25 Loss: 6.267655\n",
            "Epoch: 26 Loss: 5.629672\n",
            "Epoch: 27 Loss: 5.088054\n",
            "Epoch: 28 Loss: 4.598612\n",
            "Epoch: 29 Loss: 4.187864\n",
            "Epoch: 30 Loss: 3.816676\n",
            "Epoch: 31 Loss: 3.505137\n",
            "Epoch: 32 Loss: 3.222977\n",
            "Epoch: 33 Loss: 2.974426\n",
            "Epoch: 34 Loss: 2.747721\n",
            "Epoch: 35 Loss: 2.539531\n",
            "Epoch: 36 Loss: 2.356569\n",
            "Epoch: 37 Loss: 2.191667\n",
            "Epoch: 38 Loss: 2.044151\n",
            "Epoch: 39 Loss: 1.900738\n",
            "Epoch: 40 Loss: 1.778955\n",
            "Epoch: 41 Loss: 1.663093\n",
            "Epoch: 42 Loss: 1.557094\n",
            "Epoch: 43 Loss: 1.458537\n",
            "Epoch: 44 Loss: 1.369878\n",
            "Epoch: 45 Loss: 1.288100\n",
            "Epoch: 46 Loss: 1.210172\n",
            "Epoch: 47 Loss: 1.139956\n",
            "Epoch: 48 Loss: 1.071638\n",
            "Epoch: 49 Loss: 1.010739\n",
            "Epoch: 50 Loss: 0.955366\n",
            "Epoch: 51 Loss: 0.902018\n",
            "Epoch: 52 Loss: 0.852538\n",
            "Epoch: 53 Loss: 0.804758\n",
            "Epoch: 54 Loss: 0.760002\n",
            "Epoch: 55 Loss: 0.720403\n",
            "Epoch: 56 Loss: 0.681044\n",
            "Epoch: 57 Loss: 0.645959\n",
            "Epoch: 58 Loss: 0.613009\n",
            "Epoch: 59 Loss: 0.581326\n",
            "Epoch: 60 Loss: 0.551537\n",
            "Epoch: 61 Loss: 0.524254\n",
            "Epoch: 62 Loss: 0.496460\n",
            "Epoch: 63 Loss: 0.471239\n",
            "Epoch: 64 Loss: 0.448139\n",
            "Epoch: 65 Loss: 0.425272\n",
            "Epoch: 66 Loss: 0.403867\n",
            "Epoch: 67 Loss: 0.384953\n",
            "Epoch: 68 Loss: 0.365470\n",
            "Epoch: 69 Loss: 0.347275\n",
            "Epoch: 70 Loss: 0.330705\n",
            "Epoch: 71 Loss: 0.314769\n",
            "Epoch: 72 Loss: 0.299486\n",
            "Epoch: 73 Loss: 0.285207\n",
            "Epoch: 74 Loss: 0.271576\n",
            "Epoch: 75 Loss: 0.258965\n",
            "Epoch: 76 Loss: 0.246533\n",
            "Epoch: 77 Loss: 0.234975\n",
            "Epoch: 78 Loss: 0.223481\n",
            "Epoch: 79 Loss: 0.213420\n",
            "Epoch: 80 Loss: 0.203287\n",
            "Epoch: 81 Loss: 0.193909\n",
            "Epoch: 82 Loss: 0.184822\n",
            "Epoch: 83 Loss: 0.176505\n",
            "Epoch: 84 Loss: 0.168346\n",
            "Epoch: 85 Loss: 0.160181\n",
            "Epoch: 86 Loss: 0.152960\n",
            "Epoch: 87 Loss: 0.146062\n",
            "Epoch: 88 Loss: 0.139473\n",
            "Epoch: 89 Loss: 0.132956\n",
            "Epoch: 90 Loss: 0.126774\n",
            "Epoch: 91 Loss: 0.120944\n",
            "Epoch: 92 Loss: 0.115403\n",
            "Epoch: 93 Loss: 0.110308\n",
            "Epoch: 94 Loss: 0.105243\n",
            "Epoch: 95 Loss: 0.100455\n",
            "Epoch: 96 Loss: 0.095974\n",
            "Epoch: 97 Loss: 0.091621\n",
            "Epoch: 98 Loss: 0.087524\n",
            "Epoch: 99 Loss: 0.083594\n",
            "Epoch: 100 Loss: 0.079741\n",
            "Epoch: 101 Loss: 0.076244\n",
            "Epoch: 102 Loss: 0.072822\n",
            "Epoch: 103 Loss: 0.069598\n",
            "Epoch: 104 Loss: 0.066413\n",
            "Epoch: 105 Loss: 0.063440\n",
            "Epoch: 106 Loss: 0.060686\n",
            "Epoch: 107 Loss: 0.057987\n",
            "Epoch: 108 Loss: 0.055348\n",
            "Epoch: 109 Loss: 0.052937\n",
            "Epoch: 110 Loss: 0.050503\n",
            "Epoch: 111 Loss: 0.048290\n",
            "Epoch: 112 Loss: 0.046191\n",
            "Epoch: 113 Loss: 0.044106\n",
            "Epoch: 114 Loss: 0.042144\n",
            "Epoch: 115 Loss: 0.040308\n",
            "Epoch: 116 Loss: 0.038547\n",
            "Epoch: 117 Loss: 0.036833\n",
            "Epoch: 118 Loss: 0.035206\n",
            "Epoch: 119 Loss: 0.033646\n",
            "Epoch: 120 Loss: 0.032159\n",
            "Epoch: 121 Loss: 0.030771\n",
            "Epoch: 122 Loss: 0.029375\n",
            "Epoch: 123 Loss: 0.028086\n",
            "Epoch: 124 Loss: 0.026853\n",
            "Epoch: 125 Loss: 0.025657\n",
            "Epoch: 126 Loss: 0.024565\n",
            "Epoch: 127 Loss: 0.023472\n",
            "Epoch: 128 Loss: 0.022424\n",
            "Epoch: 129 Loss: 0.021445\n",
            "Epoch: 130 Loss: 0.020514\n",
            "Epoch: 131 Loss: 0.019597\n",
            "Epoch: 132 Loss: 0.018747\n",
            "Epoch: 133 Loss: 0.017926\n",
            "Epoch: 134 Loss: 0.017124\n",
            "Epoch: 135 Loss: 0.016390\n",
            "Epoch: 136 Loss: 0.015665\n",
            "Epoch: 137 Loss: 0.014988\n",
            "Epoch: 138 Loss: 0.014333\n",
            "Epoch: 139 Loss: 0.013708\n",
            "Epoch: 140 Loss: 0.013116\n",
            "Epoch: 141 Loss: 0.012532\n",
            "Epoch: 142 Loss: 0.011981\n",
            "Epoch: 143 Loss: 0.011454\n",
            "Epoch: 144 Loss: 0.010970\n",
            "Epoch: 145 Loss: 0.010475\n",
            "Epoch: 146 Loss: 0.010026\n",
            "Epoch: 147 Loss: 0.009588\n",
            "Epoch: 148 Loss: 0.009172\n",
            "Epoch: 149 Loss: 0.008777\n",
            "Epoch: 150 Loss: 0.008383\n",
            "Epoch: 151 Loss: 0.008037\n",
            "Epoch: 152 Loss: 0.007681\n",
            "Epoch: 153 Loss: 0.007345\n",
            "Epoch: 154 Loss: 0.007017\n",
            "Epoch: 155 Loss: 0.006726\n",
            "Epoch: 156 Loss: 0.006438\n",
            "Epoch: 157 Loss: 0.006144\n",
            "Epoch: 158 Loss: 0.005881\n",
            "Epoch: 159 Loss: 0.005626\n",
            "Epoch: 160 Loss: 0.005376\n",
            "Epoch: 161 Loss: 0.005144\n",
            "Epoch: 162 Loss: 0.004920\n",
            "Epoch: 163 Loss: 0.004704\n",
            "Epoch: 164 Loss: 0.004499\n",
            "Epoch: 165 Loss: 0.004305\n",
            "Epoch: 166 Loss: 0.004117\n",
            "Epoch: 167 Loss: 0.003941\n",
            "Epoch: 168 Loss: 0.003768\n",
            "Epoch: 169 Loss: 0.003604\n",
            "Epoch: 170 Loss: 0.003450\n",
            "Epoch: 171 Loss: 0.003299\n",
            "Epoch: 172 Loss: 0.003154\n",
            "Epoch: 173 Loss: 0.003018\n",
            "Epoch: 174 Loss: 0.002887\n",
            "Epoch: 175 Loss: 0.002762\n",
            "Epoch: 176 Loss: 0.002640\n",
            "Epoch: 177 Loss: 0.002529\n",
            "Epoch: 178 Loss: 0.002418\n",
            "Epoch: 179 Loss: 0.002312\n",
            "Epoch: 180 Loss: 0.002212\n",
            "Epoch: 181 Loss: 0.002117\n",
            "Epoch: 182 Loss: 0.002022\n",
            "Epoch: 183 Loss: 0.001935\n",
            "Epoch: 184 Loss: 0.001854\n",
            "Epoch: 185 Loss: 0.001772\n",
            "Epoch: 186 Loss: 0.001696\n",
            "Epoch: 187 Loss: 0.001623\n",
            "Epoch: 188 Loss: 0.001550\n",
            "Epoch: 189 Loss: 0.001484\n",
            "Epoch: 190 Loss: 0.001419\n",
            "Epoch: 191 Loss: 0.001357\n",
            "Epoch: 192 Loss: 0.001298\n",
            "Epoch: 193 Loss: 0.001240\n",
            "Epoch: 194 Loss: 0.001188\n",
            "Epoch: 195 Loss: 0.001137\n",
            "Epoch: 196 Loss: 0.001087\n",
            "Epoch: 197 Loss: 0.001042\n",
            "Epoch: 198 Loss: 0.000995\n",
            "Epoch: 199 Loss: 0.000951\n",
            "Epoch: 200 Loss: 0.000910\n"
          ]
        }
      ]
    },
    {
      "cell_type": "code",
      "source": [
        "model.eval()"
      ],
      "metadata": {
        "id": "XVVbNtuu1oEv"
      },
      "execution_count": null,
      "outputs": []
    },
    {
      "cell_type": "code",
      "source": [
        "def predict(model,question,threshold=0.5):\n",
        "  #convert question to number\n",
        "  num_question = text_to_index(question,vocab)\n",
        "  question_tensor = torch.tensor(num_question).unsqueeze(0)\n",
        "  # print(question_tensor)\n",
        "  output = model(question_tensor)\n",
        "  # print(output)\n",
        "\n",
        "  probs = torch.nn.functional.softmax(output,dim=1)\n",
        "  value,idx = torch.max(probs,dim=1)\n",
        "  print(value,idx)\n",
        "  if value < threshold:\n",
        "    print(\"i don't know\")\n",
        "  else:\n",
        "    print(list(vocab.keys())[idx])\n"
      ],
      "metadata": {
        "id": "9p8V8RtJ5VvZ"
      },
      "execution_count": 123,
      "outputs": []
    },
    {
      "cell_type": "code",
      "source": [
        "predict(model,\"largest planet in solar system\")"
      ],
      "metadata": {
        "colab": {
          "base_uri": "https://localhost:8080/"
        },
        "id": "a9j19d836P9o",
        "outputId": "dd63e898-1fd4-4194-ae8e-efe302ea756d"
      },
      "execution_count": 126,
      "outputs": [
        {
          "output_type": "stream",
          "name": "stdout",
          "text": [
            "tensor([0.5384], grad_fn=<MaxBackward0>) tensor([23])\n",
            "jupiter\n"
          ]
        }
      ]
    },
    {
      "cell_type": "code",
      "source": [],
      "metadata": {
        "id": "WNza-kRM6-8I"
      },
      "execution_count": null,
      "outputs": []
    }
  ]
}